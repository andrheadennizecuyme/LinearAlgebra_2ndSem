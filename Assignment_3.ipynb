{
  "nbformat": 4,
  "nbformat_minor": 0,
  "metadata": {
    "colab": {
      "name": "Assignment 3.ipynb",
      "provenance": [],
      "collapsed_sections": [],
      "toc_visible": true,
      "authorship_tag": "ABX9TyOyjnDvv4Gjxb5QBUnpJJ9v",
      "include_colab_link": true
    },
    "kernelspec": {
      "name": "python3",
      "display_name": "Python 3"
    },
    "language_info": {
      "name": "python"
    }
  },
  "cells": [
    {
      "cell_type": "markdown",
      "metadata": {
        "id": "view-in-github",
        "colab_type": "text"
      },
      "source": [
        "<a href=\"https://colab.research.google.com/github/andrheadennizecuyme/LinearAlgebra_2ndSem/blob/main/Assignment_3.ipynb\" target=\"_parent\"><img src=\"https://colab.research.google.com/assets/colab-badge.svg\" alt=\"Open In Colab\"/></a>"
      ]
    },
    {
      "cell_type": "markdown",
      "source": [
        "# Linear Algebra for ChE\n",
        "## Laboratory 4: Matrices"
      ],
      "metadata": {
        "id": "lVzNC-I0xaBp"
      }
    },
    {
      "cell_type": "markdown",
      "source": [
        "# Objectives\n",
        "\n",
        "At the end of this activity student will be able to:\n",
        "1. Be familiar with matrices and their relation to linear equations.\n",
        "2. Perform basic matrix operations. \n",
        "3. Program and translate matrix equations and operations using Python. "
      ],
      "metadata": {
        "id": "ybZg_bOrxi8V"
      }
    },
    {
      "cell_type": "markdown",
      "source": [
        "# Discussion\n"
      ],
      "metadata": {
        "id": "D2vg8rgxx4S7"
      }
    },
    {
      "cell_type": "code",
      "source": [
        "import numpy as np\n",
        "import matplotlib.pyplot as plt\n",
        "import scipy.linalg as la\n",
        "%matplotlib inline"
      ],
      "metadata": {
        "id": "e-gpXxydyLs3"
      },
      "execution_count": null,
      "outputs": []
    },
    {
      "cell_type": "markdown",
      "source": [
        "# Matrices\n",
        " \n",
        "The notation and use of matrices is probably one of the fundamentals of modern computing. Matrices are also handy representations of complex equations or multiple inter-related equations from 2-dimensional equations to even hundreds and thousands of them.\n",
        "\n",
        "\n",
        "Let's say for example you have A and B as system of equation."
      ],
      "metadata": {
        "id": "OQO6-Agtx9hL"
      }
    },
    {
      "cell_type": "markdown",
      "source": [
        "$$\n",
        "A = \\left\\{\n",
        "    \\begin{array}\\\n",
        "        x + y \\\\ \n",
        "        4x - 10y\n",
        "    \\end{array}\n",
        "\\right. \\\\\n",
        "B = \\left\\{\n",
        "    \\begin{array}\\\n",
        "        x+y+z \\\\ \n",
        "        3x -2y -z \\\\\n",
        "        -x + 4y +2z\n",
        "    \\end{array}\n",
        "\\right. \\\\\n",
        "C = \\left\\{\n",
        "   \\begin{array}\\\n",
        "   w-2x+3y-4z \\\\\n",
        "   3w-x-2y+z \\\\\n",
        "   2w-x+3y-2z\n",
        "   \\end{array}\n",
        "\\right. $$\n"
      ],
      "metadata": {
        "id": "GEnntjpWzv5Y"
      }
    },
    {
      "cell_type": "markdown",
      "source": [
        "We could see that A is a system of 2 equation with 2 parameters. While, B is a system of 3 equations with 2 parameters. We can represent them as matrices as:"
      ],
      "metadata": {
        "id": "AF-P-qq7zyk7"
      }
    },
    {
      "cell_type": "markdown",
      "source": [
        "$$\n",
        "A=\\begin{bmatrix} 1 & 1 \\\\ 4 & {-10}\\end{bmatrix} \\\\\n",
        "B=\\begin{bmatrix} 1 & 1 & 1 \\\\ 3 & -2 & -1 \\\\ -1 & 4 & 2\\end{bmatrix}\\\\\n",
        "C=\\begin{bmatrix} 1 & -2 & 3 & 4 \\\\ 3 & -1 & -2 & 1 \\\\ 2 & -1 & 3 & -2\\end{bmatrix}\n",
        "$$\n",
        "\n"
      ],
      "metadata": {
        "id": "_JR0d8sh1e1-"
      }
    },
    {
      "cell_type": "markdown",
      "source": [
        "So assuming that you already discussed the fundamental representation of matrices, their types, and operations. "
      ],
      "metadata": {
        "id": "EkScL1NL2o3w"
      }
    },
    {
      "cell_type": "markdown",
      "source": [
        "# Declaring Matrices \n",
        "\n",
        "Just like our previous laboratory activity, we'll represent system of linear equations as a matrix. The entities or numbers in matrices are called the elements of a matrix. These elements are arranged and ordered in rows and columns which form the list/array-like structure of matrices. And just like arrays, these elements are indexed according to their position with respect to their rows and columns. This can be represented just like the equation below. Whereas A is a matrix consisting of elements denoted by aij. Denoted by i is the number of rows in the matrix while j stands for the number of columns.\n",
        "Do note that the size of a matrix is i x j."
      ],
      "metadata": {
        "id": "kKvfdLcL3EQ9"
      }
    },
    {
      "cell_type": "markdown",
      "source": [
        "$$A=\\begin{bmatrix}\n",
        "a_{(0,0)}&a_{(0,1)}&\\dots&a_{(0,j-1)}\\\\\n",
        "a_{(1,0)}&a_{(1,1)}&\\dots&a_{(1,j-1)}\\\\\n",
        "\\vdots&\\vdots&\\ddots&\\vdots&\\\\\n",
        "a_{(i-1,0)}&a_{(i-1,1)}&\\dots&a_{(i-1,j-1)}\n",
        "\\end{bmatrix}\n",
        "$$\n"
      ],
      "metadata": {
        "id": "LJCbdhZZ3X9y"
      }
    },
    {
      "cell_type": "markdown",
      "source": [
        "We already gone over some of the types of matrices as vectors but we'll further discuss them in this laboratory activity. Since you already know how to describe vectors using shape, dimensions and size attributes, we'll use them to analyze these matrices.\n",
        "\n"
      ],
      "metadata": {
        "id": "xy_QLNFLPI3W"
      }
    },
    {
      "cell_type": "code",
      "source": [
        "## Since we'll keep on describing matrices. Let's make a function.\n",
        "def describe_mat(matrix):\n",
        "    print(f'Matrix:\\n{matrix}\\n\\nShape:\\t{matrix.shape}\\nRank:\\t{matrix.ndim}\\n')"
      ],
      "metadata": {
        "id": "jwxdF13W33Et"
      },
      "execution_count": null,
      "outputs": []
    },
    {
      "cell_type": "code",
      "source": [
        "## Declaring a 2 x 2 matrix\n",
        "A = np.array([\n",
        "    [1, 2],\n",
        "    [3, 1]\n",
        "])\n",
        "describe_mat(A)"
      ],
      "metadata": {
        "colab": {
          "base_uri": "https://localhost:8080/"
        },
        "id": "qHvtbtn03tT6",
        "outputId": "cf7fa911-9c57-4b4e-a7cb-fd043870d711"
      },
      "execution_count": null,
      "outputs": [
        {
          "output_type": "stream",
          "name": "stdout",
          "text": [
            "Matrix:\n",
            "[[1 2]\n",
            " [3 1]]\n",
            "\n",
            "Shape:\t(2, 2)\n",
            "Rank:\t2\n",
            "\n"
          ]
        }
      ]
    },
    {
      "cell_type": "code",
      "source": [
        "## Declaring a 2 x 3 matrix\n",
        "A = np.array([\n",
        "    [5, 1, 3],\n",
        "    [4, 7, 8]\n",
        "])\n",
        "describe_mat(A)"
      ],
      "metadata": {
        "colab": {
          "base_uri": "https://localhost:8080/"
        },
        "id": "v3sPMmtf6Jvu",
        "outputId": "6bc0c91a-703e-467c-c923-296f830be413"
      },
      "execution_count": null,
      "outputs": [
        {
          "output_type": "stream",
          "name": "stdout",
          "text": [
            "Matrix:\n",
            "[[5 1 3]\n",
            " [4 7 8]]\n",
            "\n",
            "Shape:\t(2, 3)\n",
            "Rank:\t2\n",
            "\n"
          ]
        }
      ]
    },
    {
      "cell_type": "code",
      "source": [
        "## Declaring a 3 x 2 matrix\n",
        "A = np.array([\n",
        "    [7, 9],\n",
        "    [3, 1],\n",
        "    [6, 6]\n",
        "])\n",
        "describe_mat(A)"
      ],
      "metadata": {
        "colab": {
          "base_uri": "https://localhost:8080/"
        },
        "id": "OtaggTEX6U9r",
        "outputId": "2e03e6bf-1f21-4ff8-8ec9-1834cb269f64"
      },
      "execution_count": null,
      "outputs": [
        {
          "output_type": "stream",
          "name": "stdout",
          "text": [
            "Matrix:\n",
            "[[7 9]\n",
            " [3 1]\n",
            " [6 6]]\n",
            "\n",
            "Shape:\t(3, 2)\n",
            "Rank:\t2\n",
            "\n"
          ]
        }
      ]
    },
    {
      "cell_type": "code",
      "source": [
        "H = np.array([9,8,7,6,5])\n",
        "describe_mat(H)"
      ],
      "metadata": {
        "colab": {
          "base_uri": "https://localhost:8080/"
        },
        "id": "sgLvyHHH6kbW",
        "outputId": "dbf8626e-0d28-4e03-805d-c1ddf92ead3a"
      },
      "execution_count": null,
      "outputs": [
        {
          "output_type": "stream",
          "name": "stdout",
          "text": [
            "Matrix:\n",
            "[9 8 7 6 5]\n",
            "\n",
            "Shape:\t(5,)\n",
            "Rank:\t1\n",
            "\n"
          ]
        }
      ]
    },
    {
      "cell_type": "markdown",
      "source": [
        "# Categorizing Matrices\n",
        "\n",
        "There are several ways of classifying matrices. Once could be according to their shape and another is according to their element values. We'll try to go through them.\n",
        "\n"
      ],
      "metadata": {
        "id": "8c7zkE-57P2G"
      }
    },
    {
      "cell_type": "markdown",
      "source": [
        "## According to Shapes"
      ],
      "metadata": {
        "id": "YThkY38g9XwF"
      }
    },
    {
      "cell_type": "markdown",
      "source": [
        "###Rows and Column Matrices\n",
        "Row and column matrices are common in vector and matrix computations. They can also represent row and column spaces of a bigger vector space. Row and column matrices are represented by a single column or single row. So with that being, the shape of row matrices would be l x j  and column matrices would be j x l ."
      ],
      "metadata": {
        "id": "I8SdiWAf8kCQ"
      }
    },
    {
      "cell_type": "code",
      "source": [
        "## Declaring a Row Matrix\n",
        "\n",
        "row_mat_1D = np.array([\n",
        "    1, 3, 2\n",
        "]) ## this is a 1-D Matrix with a shape of (3,), it's not really considered as a row matrix.\n",
        "row_mat_2D = np.array([\n",
        "    [1,2,3, -4]\n",
        "]) ## this is a 2-D Matrix with a shape of (1,3)\n",
        "describe_mat(row_mat_1D)\n",
        "describe_mat(row_mat_2D)"
      ],
      "metadata": {
        "colab": {
          "base_uri": "https://localhost:8080/"
        },
        "id": "7G_8SqVE7ciL",
        "outputId": "87b4a639-38bb-4155-e213-e4d0171e6d44"
      },
      "execution_count": null,
      "outputs": [
        {
          "output_type": "stream",
          "name": "stdout",
          "text": [
            "Matrix:\n",
            "[1 3 2]\n",
            "\n",
            "Shape:\t(3,)\n",
            "Rank:\t1\n",
            "\n",
            "Matrix:\n",
            "[[ 1  2  3 -4]]\n",
            "\n",
            "Shape:\t(1, 4)\n",
            "Rank:\t2\n",
            "\n"
          ]
        }
      ]
    },
    {
      "cell_type": "code",
      "source": [
        "## Declaring a Column Matrix\n",
        "\n",
        "col_mat = np.array([\n",
        "    [1000.00],\n",
        "    [99999],\n",
        "    [8877]\n",
        "])\n",
        "describe_mat(col_mat)"
      ],
      "metadata": {
        "colab": {
          "base_uri": "https://localhost:8080/"
        },
        "id": "wv_RguFr9dEa",
        "outputId": "f67acd8e-1f48-4150-b30e-934c4c946f6e"
      },
      "execution_count": null,
      "outputs": [
        {
          "output_type": "stream",
          "name": "stdout",
          "text": [
            "Matrix:\n",
            "[[ 1000.]\n",
            " [99999.]\n",
            " [ 8877.]]\n",
            "\n",
            "Shape:\t(3, 1)\n",
            "Rank:\t2\n",
            "\n"
          ]
        }
      ]
    },
    {
      "cell_type": "markdown",
      "source": [
        "### Square Matrices\n",
        "\n",
        "Square matrices are matrices that have the same row and column sizes. We could say a matrix is square if i = j. We can tweak our matrix descriptor function to determine square matrices."
      ],
      "metadata": {
        "id": "3sk50-ZX95Zu"
      }
    },
    {
      "cell_type": "code",
      "source": [
        "def describe_mat(matrix):\n",
        "  is_square = True if matrix.shape[0] == matrix.shape[1] else False\n",
        "  print(f'Matrix:\\n{matrix}\\n\\nShape:\\t{matrix.shape}\\nRank:\\t{matrix.ndim}\\nIs Square: {is_square}\\n')"
      ],
      "metadata": {
        "id": "kK1em9fZ9_Y6"
      },
      "execution_count": null,
      "outputs": []
    },
    {
      "cell_type": "code",
      "source": [
        "square_mat = np.array([\n",
        "    [2, 4, 6],\n",
        "    [3, 6, 9],\n",
        "    [4, 8, 12]\n",
        "])\n",
        "\n",
        "non_square_mat = np.array([\n",
        "    [1, 3, 9],\n",
        "    [4, 7, 10]\n",
        "])\n",
        "describe_mat(square_mat)\n",
        "describe_mat(non_square_mat)"
      ],
      "metadata": {
        "id": "7LarFWrf_iTt",
        "colab": {
          "base_uri": "https://localhost:8080/"
        },
        "outputId": "fc793e72-420e-4d52-d598-b4b480b07ecd"
      },
      "execution_count": null,
      "outputs": [
        {
          "output_type": "stream",
          "name": "stdout",
          "text": [
            "Matrix:\n",
            "[[ 2  4  6]\n",
            " [ 3  6  9]\n",
            " [ 4  8 12]]\n",
            "\n",
            "Shape:\t(3, 3)\n",
            "Rank:\t2\n",
            "Is Square: True\n",
            "\n",
            "Matrix:\n",
            "[[ 1  3  9]\n",
            " [ 4  7 10]]\n",
            "\n",
            "Shape:\t(2, 3)\n",
            "Rank:\t2\n",
            "Is Square: False\n",
            "\n"
          ]
        }
      ]
    },
    {
      "cell_type": "markdown",
      "source": [
        "## According to Element Values"
      ],
      "metadata": {
        "id": "b6WQ9X5G-R7h"
      }
    },
    {
      "cell_type": "markdown",
      "source": [
        "### Null Matrix\n",
        "\n",
        "A Null Matrix is a matrix that has no elements. It is always a subspace of any vector or matrix."
      ],
      "metadata": {
        "id": "-_FJvMWGBFzE"
      }
    },
    {
      "cell_type": "code",
      "source": [
        "def describe_mat(matrix):\n",
        "  if matrix.size > 0:\n",
        "    is_square = True if matrix.shape[0] == matrix.shape[1] else False \n",
        "    print(f'Matrix:\\n{matrix}\\n\\nShape:\\t{matrix.shape}\\nRank:\\t{matrix.ndim}\\nIs Square: {is_square}\\n')\n",
        "  else: \n",
        "    print('Matrix is Null')"
      ],
      "metadata": {
        "id": "55I0v_GoBbJZ"
      },
      "execution_count": null,
      "outputs": []
    },
    {
      "cell_type": "code",
      "source": [
        "null_mat = np.array([])\n",
        "describe_mat(null_mat)"
      ],
      "metadata": {
        "colab": {
          "base_uri": "https://localhost:8080/"
        },
        "id": "XUBiR8MSBbXZ",
        "outputId": "cce48157-e8b7-453e-f68c-9449485007f1"
      },
      "execution_count": null,
      "outputs": [
        {
          "output_type": "stream",
          "name": "stdout",
          "text": [
            "Matrix is Null\n"
          ]
        }
      ]
    },
    {
      "cell_type": "markdown",
      "source": [
        "### Zero Matrix\n",
        "\n",
        "A Zero Matrix can be any rectangular matrix but with all elements having a value of 0."
      ],
      "metadata": {
        "id": "20ygkbKPCCX8"
      }
    },
    {
      "cell_type": "code",
      "source": [
        "zero_mat_row = np.zeros((1,2))\n",
        "zero_mat_sqr = np.zeros((2,2))\n",
        "zero_mat_rct = np.zeros((3,2))\n",
        "\n",
        "print(f'Zero Row Matrix: \\n{zero_mat_row}')\n",
        "print(f'Zero Square Matrix: \\n{zero_mat_sqr}')\n",
        "print(f'Zero Rectanglar Matrix: \\n{zero_mat_rct}')"
      ],
      "metadata": {
        "colab": {
          "base_uri": "https://localhost:8080/"
        },
        "id": "zTOTAJp3Ch17",
        "outputId": "2d45d13c-6748-4cc4-feec-6a7cb120a50d"
      },
      "execution_count": null,
      "outputs": [
        {
          "output_type": "stream",
          "name": "stdout",
          "text": [
            "Zero Row Matrix: \n",
            "[[0. 0.]]\n",
            "Zero Square Matrix: \n",
            "[[0. 0.]\n",
            " [0. 0.]]\n",
            "Zero Rectanglar Matrix: \n",
            "[[0. 0.]\n",
            " [0. 0.]\n",
            " [0. 0.]]\n"
          ]
        }
      ]
    },
    {
      "cell_type": "markdown",
      "source": [
        "### Ones Matrix\n",
        "\n",
        "a Ones Matrix, just like Zero Matrix, can be any rectangular matrix but all of its elements are 1s instead of 0s."
      ],
      "metadata": {
        "id": "VC3So5r6Ccay"
      }
    },
    {
      "cell_type": "code",
      "source": [
        "ones_mat_row = np.ones((1,2))\n",
        "ones_mat_sqr = np.ones((2,2))\n",
        "ones_mat_rct = np.ones ((3,2))\n",
        "\n",
        "print(f'Ones Row Matrix: \\n{ones_mat_row}')\n",
        "print(f'Ones Square Matrix: \\n{ones_mat_sqr}')\n",
        "print(f'Ones Rectanglar Matrix: \\n{ones_mat_rct}')"
      ],
      "metadata": {
        "colab": {
          "base_uri": "https://localhost:8080/"
        },
        "id": "zPpv9VuRDruz",
        "outputId": "f834df8a-453e-4ab3-ec33-45fb56d35d76"
      },
      "execution_count": null,
      "outputs": [
        {
          "output_type": "stream",
          "name": "stdout",
          "text": [
            "Ones Row Matrix: \n",
            "[[1. 1.]]\n",
            "Ones Square Matrix: \n",
            "[[1. 1.]\n",
            " [1. 1.]]\n",
            "Ones Rectanglar Matrix: \n",
            "[[1. 1.]\n",
            " [1. 1.]\n",
            " [1. 1.]]\n"
          ]
        }
      ]
    },
    {
      "cell_type": "markdown",
      "source": [
        "### Diagonal Matrix\n",
        "\n",
        "A Diagonal Matrix is a square matrix that has values only at the diagonal of the matrix."
      ],
      "metadata": {
        "id": "xT-vG2eiEo0R"
      }
    },
    {
      "cell_type": "code",
      "source": [
        "np.array([\n",
        "    [3,0,4],\n",
        "    [0,3,0],\n",
        "    [4,0,3]\n",
        "])\n",
        "# a[1,1], a[2,2], a[3,3], ... a[n-1,n-1]"
      ],
      "metadata": {
        "colab": {
          "base_uri": "https://localhost:8080/"
        },
        "id": "WeRnbf7DE00x",
        "outputId": "b4809234-33e6-43b4-96a0-14996c114e37"
      },
      "execution_count": null,
      "outputs": [
        {
          "output_type": "execute_result",
          "data": {
            "text/plain": [
              "array([[3, 0, 4],\n",
              "       [0, 3, 0],\n",
              "       [4, 0, 3]])"
            ]
          },
          "metadata": {},
          "execution_count": 18
        }
      ]
    },
    {
      "cell_type": "code",
      "source": [
        "d = np.diag([9, 8, 7, 6])\n",
        "d.shape[0]  == d.shape[1]\n",
        "d"
      ],
      "metadata": {
        "colab": {
          "base_uri": "https://localhost:8080/"
        },
        "id": "4bhXSn1PFSiT",
        "outputId": "57e3f76f-aba9-4c3e-edf0-aa7d78f00f3a"
      },
      "execution_count": null,
      "outputs": [
        {
          "output_type": "execute_result",
          "data": {
            "text/plain": [
              "array([[9, 0, 0, 0],\n",
              "       [0, 8, 0, 0],\n",
              "       [0, 0, 7, 0],\n",
              "       [0, 0, 0, 6]])"
            ]
          },
          "metadata": {},
          "execution_count": 19
        }
      ]
    },
    {
      "cell_type": "markdown",
      "source": [
        "### Identity Matrix\n",
        "\n",
        "An Identity Matrix is a special diagonal matrix in which at the diagonal are ones."
      ],
      "metadata": {
        "id": "i8yDyfwsE0_H"
      }
    },
    {
      "cell_type": "code",
      "source": [
        "np.eye(3)"
      ],
      "metadata": {
        "colab": {
          "base_uri": "https://localhost:8080/"
        },
        "id": "qlFBvstGF17e",
        "outputId": "f232063c-fbac-471c-9f24-ad4e2b36dd8b"
      },
      "execution_count": null,
      "outputs": [
        {
          "output_type": "execute_result",
          "data": {
            "text/plain": [
              "array([[1., 0., 0.],\n",
              "       [0., 1., 0.],\n",
              "       [0., 0., 1.]])"
            ]
          },
          "metadata": {},
          "execution_count": 20
        }
      ]
    },
    {
      "cell_type": "code",
      "source": [
        "np.identity(4)"
      ],
      "metadata": {
        "colab": {
          "base_uri": "https://localhost:8080/"
        },
        "id": "NsKTyiXnF2FO",
        "outputId": "eb6cabd2-beec-43b1-aeba-bcee52036d1b"
      },
      "execution_count": null,
      "outputs": [
        {
          "output_type": "execute_result",
          "data": {
            "text/plain": [
              "array([[1., 0., 0., 0.],\n",
              "       [0., 1., 0., 0.],\n",
              "       [0., 0., 1., 0.],\n",
              "       [0., 0., 0., 1.]])"
            ]
          },
          "metadata": {},
          "execution_count": 21
        }
      ]
    },
    {
      "cell_type": "markdown",
      "source": [
        "### Upper Triangular Matrix\n",
        "\n",
        "An Upper Triangular Matrix is a matrix that has no values below the diagonal."
      ],
      "metadata": {
        "id": "iEjYMAzvGQVI"
      }
    },
    {
      "cell_type": "code",
      "source": [
        "np.array([\n",
        "    [1,2,3,4],\n",
        "    [0,9,-3,-1],\n",
        "    [0,0,9,12],\n",
        "    [0,0,0,85]\n",
        "])"
      ],
      "metadata": {
        "colab": {
          "base_uri": "https://localhost:8080/"
        },
        "id": "TZUl7i8-GlBp",
        "outputId": "d5b0d986-2242-4f01-f939-4104839aa8f3"
      },
      "execution_count": null,
      "outputs": [
        {
          "output_type": "execute_result",
          "data": {
            "text/plain": [
              "array([[ 1,  2,  3,  4],\n",
              "       [ 0,  9, -3, -1],\n",
              "       [ 0,  0,  9, 12],\n",
              "       [ 0,  0,  0, 85]])"
            ]
          },
          "metadata": {},
          "execution_count": 22
        }
      ]
    },
    {
      "cell_type": "markdown",
      "source": [
        "### Lower Triangular Matrix\n",
        "\n",
        "An Lower Triangular Matrix is a matrix that has no values above the diagonal."
      ],
      "metadata": {
        "id": "6TU1YuaKGrXv"
      }
    },
    {
      "cell_type": "code",
      "source": [
        "np.array([\n",
        "    [1,0,0],\n",
        "    [5,2,0],\n",
        "    [6,9,7]\n",
        "])"
      ],
      "metadata": {
        "colab": {
          "base_uri": "https://localhost:8080/"
        },
        "id": "vvRMEFsEHZsC",
        "outputId": "830a2010-7539-452a-fa05-f18693ec4f4d"
      },
      "execution_count": null,
      "outputs": [
        {
          "output_type": "execute_result",
          "data": {
            "text/plain": [
              "array([[1, 0, 0],\n",
              "       [5, 2, 0],\n",
              "       [6, 9, 7]])"
            ]
          },
          "metadata": {},
          "execution_count": 23
        }
      ]
    },
    {
      "cell_type": "markdown",
      "source": [
        "# PRACTICE"
      ],
      "metadata": {
        "id": "b--wlHlHHZ_f"
      }
    },
    {
      "cell_type": "markdown",
      "source": [
        "1. Given the linear combination below, try to create a corresponding matrix representing it.\n"
      ],
      "metadata": {
        "id": "-vkeIDURHl57"
      }
    },
    {
      "cell_type": "markdown",
      "source": [
        "$$\\theta = 5x + 3y - z$$\n"
      ],
      "metadata": {
        "id": "RnWc4wFGHmKV"
      }
    },
    {
      "cell_type": "markdown",
      "source": [
        "$$\n",
        "\\theta=\\begin{bmatrix} 1 & 3 & {-1}\\end{bmatrix}\n",
        "$$"
      ],
      "metadata": {
        "id": "9ueQBZdIdarS"
      }
    },
    {
      "cell_type": "markdown",
      "source": [
        "2. Given the system of linear combinations below, try to encode it as a matrix. Also describe the matrix."
      ],
      "metadata": {
        "id": "T4475pz2Hpo4"
      }
    },
    {
      "cell_type": "markdown",
      "source": [
        "$$\n",
        "A = \\left\\{\\begin{array}\n",
        "5x_1 + 2x_2 +x_3\\\\\n",
        "4x_2 - x_3\\\\\n",
        "10x_3\n",
        "\\end{array}\\right.\n",
        "$$\n"
      ],
      "metadata": {
        "id": "lbk7BvdPHy0Q"
      }
    },
    {
      "cell_type": "markdown",
      "source": [
        "$$\n",
        "A=\\begin{bmatrix} 1 & 2 & 1\\\\ 0 & 4 & {-1}\\\\ 0 & 0 & 10\\end{bmatrix}\n",
        "$$"
      ],
      "metadata": {
        "id": "qJsaMrDtdfLx"
      }
    },
    {
      "cell_type": "markdown",
      "source": [
        "The matrix above is an upper triangular matrix where the entries above the main diagonal are entries with non zero number while the entries below the main diagonal line are all zeroes (0)."
      ],
      "metadata": {
        "id": "1BDDyp-VdnUR"
      }
    },
    {
      "cell_type": "markdown",
      "source": [
        "3. Given the matrix below, express it as a linear combination in a markdown and a LaTeX markdown."
      ],
      "metadata": {
        "id": "skLmYnLbINau"
      }
    },
    {
      "cell_type": "code",
      "source": [
        "G = np.array([\n",
        "    [1,7,8],\n",
        "    [2,2,2],\n",
        "    [4,6,7]\n",
        "])"
      ],
      "metadata": {
        "id": "GMT02vWrINvh"
      },
      "execution_count": null,
      "outputs": []
    },
    {
      "cell_type": "markdown",
      "source": [
        "$$\n",
        "G = \\left\\{\\begin{array}\n",
        "1x_1 + 7x_2 +8x_3\\\\\n",
        "2x_1 + 2x_2 + 2x_3\\\\\n",
        "4x_1 + 6x_2 + 7x_3\n",
        "\\end{array}\\right.\n",
        "$$"
      ],
      "metadata": {
        "id": "MGw2nHTOIOnr"
      }
    },
    {
      "cell_type": "markdown",
      "source": [
        "$$\n",
        "G=\\begin{bmatrix} 1 & 7 & 8\\\\ 2 & 2 & 2\\\\ 4 & 6 & 7\\end{bmatrix}\n",
        "$$"
      ],
      "metadata": {
        "id": "Qz7C5zMIdv2a"
      }
    },
    {
      "cell_type": "markdown",
      "source": [
        "4. Given the matrix below, display the output as a LaTeX markdown also express it as a system of linear combinations.\n"
      ],
      "metadata": {
        "id": "iDjz-1hSIzgC"
      }
    },
    {
      "cell_type": "code",
      "source": [
        "H = np.tril(G)\n",
        "H"
      ],
      "metadata": {
        "colab": {
          "base_uri": "https://localhost:8080/"
        },
        "id": "tRdNmo6mI0fP",
        "outputId": "03e4c8f7-3f81-44b7-f960-ea8e66db9aa1"
      },
      "execution_count": null,
      "outputs": [
        {
          "output_type": "execute_result",
          "data": {
            "text/plain": [
              "array([[1, 0, 0],\n",
              "       [2, 2, 0],\n",
              "       [4, 6, 7]])"
            ]
          },
          "metadata": {},
          "execution_count": 25
        }
      ]
    },
    {
      "cell_type": "markdown",
      "source": [
        "$$\n",
        "H = \\left\\{\\begin{array}\n",
        "1x_1\\\\\n",
        "2x_1 + 2x_2 \\\\\n",
        "4x_1 + 6x_2 + 7x_3\n",
        "\\end{array}\\right.\n",
        "$$"
      ],
      "metadata": {
        "id": "XRxB7G3id9is"
      }
    },
    {
      "cell_type": "markdown",
      "source": [
        "$$\n",
        "H=\\begin{bmatrix} 1 & 0 & 0\\\\ 2 & 2 & 0\\\\ 4 & 6 & 7\\end{bmatrix}\n",
        "$$"
      ],
      "metadata": {
        "id": "ao1lIm1ZeB8o"
      }
    },
    {
      "cell_type": "markdown",
      "source": [
        "# Matrix Algebra"
      ],
      "metadata": {
        "id": "80NOU5GJJL7Y"
      }
    },
    {
      "cell_type": "markdown",
      "source": [
        "## Addition"
      ],
      "metadata": {
        "id": "JLqmBMTtJOQK"
      }
    },
    {
      "cell_type": "markdown",
      "source": [
        "## Subtraction"
      ],
      "metadata": {
        "id": "0quysRd1JZru"
      }
    },
    {
      "cell_type": "markdown",
      "source": [
        "## Element-Wise Multiplication"
      ],
      "metadata": {
        "id": "g-FlyATaJcMI"
      }
    },
    {
      "cell_type": "markdown",
      "source": [
        "# ACTIVITY"
      ],
      "metadata": {
        "id": "wQD84putKpDs"
      }
    },
    {
      "cell_type": "markdown",
      "source": [
        "## Task 1\n",
        "\n",
        "Create a function named mat_desc() that througouhly describes a matrix, it should:\n",
        "\n",
        "1. Displays the shape, size, and rank of the matrix.\n",
        "2. Displays whether the matrix is square or non-square.\n",
        "3. Displays whether the matrix is an empty matrix.\n",
        "4. Displays if the matrix is an identity, ones, or zeros matrix\n",
        "\n",
        "Use 3 sample matrices in which their shapes are not lower than (3,3). In your methodology, create a flowchart discuss the functions and methods you have done. Present your results in the results section showing the description of each matrix you have declared."
      ],
      "metadata": {
        "id": "d44thv_TKrXW"
      }
    },
    {
      "cell_type": "code",
      "source": [
        "## Function Area\n",
        "import numpy as np\n"
      ],
      "metadata": {
        "id": "t5dGhpjxQTUF"
      },
      "execution_count": null,
      "outputs": []
    },
    {
      "cell_type": "code",
      "source": [
        "## Matrix Declarations\n",
        "def mat_desc(matrix):\n",
        "    square =False\n",
        "    matrix = np.array(matrix)\n",
        "    print(f'\\nMatrix:\\n{matrix}\\n\\nShape:\\t{matrix.shape}\\nSize:\\t{matrix.size}\\nRank:\\t{np.linalg.matrix_rank(matrix)}\\n\\nThe matrix is:')\n",
        "\n",
        "    if (matrix.shape[0] == matrix.shape[1]):\n",
        "      square = True\n",
        "      print('a square matrix')\n",
        "    else:\n",
        "        print('a non-square matrix') \n",
        "\n",
        "    if(matrix.shape[0] ==0 and matrix.shape[1] ==0):\n",
        "      print('an empty matrix')\n",
        "    else:\n",
        "        print('not an empty matrix')\n",
        "\n",
        "    identity = np.identity(matrix.shape[0])\n",
        "    if(square and (identity == matrix).all()):\n",
        "      print('an identity matrix')\n",
        "    else:\n",
        "        print('not an identity matrix')\n",
        "          \n",
        "    one = np.ones((matrix.shape[0], matrix.shape[1]))\n",
        "    if((one == matrix).all()):\n",
        "      print('an ones matrix')\n",
        "    else:\n",
        "        print('not an ones matrix')\n",
        "              \n",
        "    zero = np.zeros((matrix.shape[0], matrix.shape[1]))\n",
        "    if((zero == matrix).all()):\n",
        "      print('a zeros matrix')\n",
        "    else:\n",
        "        print('not a zeros matrix\\n')"
      ],
      "metadata": {
        "id": "fhsnYJBfQVeO"
      },
      "execution_count": null,
      "outputs": []
    },
    {
      "cell_type": "code",
      "source": [
        "## Test Areas\n",
        "L = np.array([\n",
        "              [1, 0, 0, 0, 0, 0, 0, 0],\n",
        "              [0, 1, 0, 0, 0, 0, 0, 0],\n",
        "              [0, 0, 1, 0, 0, 0, 0, 0],\n",
        "              [0, 0, 0, 1, 0, 0, 0, 0],\n",
        "              [0, 0, 0, 0, 1, 0, 0, 0],\n",
        "              [0, 0, 0, 0, 0, 1, 0, 0],\n",
        "              [0, 0, 0, 0, 0, 0, 1, 0],\n",
        "              [0, 0, 0, 0, 0, 0, 0, 1]\n",
        "])\n",
        "\n",
        "M = np.array([\n",
        "              [0, 0, 0, 0, 0, 0, 0],\n",
        "              [0, 0, 0, 0, 0, 0, 0],\n",
        "              [0, 0, 0, 0, 0, 0, 0]\n",
        "])\n",
        "\n",
        "N = np.array([\n",
        "              [11, 22, 33, 44, 55],\n",
        "              [66, 77, 88, 99, 1010],\n",
        "              [1111, 1212, 1313, 1414, 1515],\n",
        "              [1616, 1717, 1818, 1919, 2020]\n",
        "])\n",
        "\n",
        "mat_desc(L)\n",
        "mat_desc(M)\n",
        "mat_desc(N)"
      ],
      "metadata": {
        "id": "XdAuBOzkQcBQ",
        "colab": {
          "base_uri": "https://localhost:8080/"
        },
        "outputId": "f691d40b-0be1-4099-fd43-59ba09c18a82"
      },
      "execution_count": null,
      "outputs": [
        {
          "output_type": "stream",
          "name": "stdout",
          "text": [
            "\n",
            "Matrix:\n",
            "[[1 0 0 0 0 0 0 0]\n",
            " [0 1 0 0 0 0 0 0]\n",
            " [0 0 1 0 0 0 0 0]\n",
            " [0 0 0 1 0 0 0 0]\n",
            " [0 0 0 0 1 0 0 0]\n",
            " [0 0 0 0 0 1 0 0]\n",
            " [0 0 0 0 0 0 1 0]\n",
            " [0 0 0 0 0 0 0 1]]\n",
            "\n",
            "Shape:\t(8, 8)\n",
            "Size:\t64\n",
            "Rank:\t8\n",
            "\n",
            "The matrix is:\n",
            "a square matrix\n",
            "not an empty matrix\n",
            "an identity matrix\n",
            "not an ones matrix\n",
            "not a zeros matrix\n",
            "\n",
            "\n",
            "Matrix:\n",
            "[[0 0 0 0 0 0 0]\n",
            " [0 0 0 0 0 0 0]\n",
            " [0 0 0 0 0 0 0]]\n",
            "\n",
            "Shape:\t(3, 7)\n",
            "Size:\t21\n",
            "Rank:\t0\n",
            "\n",
            "The matrix is:\n",
            "a non-square matrix\n",
            "not an empty matrix\n",
            "not an identity matrix\n",
            "not an ones matrix\n",
            "a zeros matrix\n",
            "\n",
            "Matrix:\n",
            "[[  11   22   33   44   55]\n",
            " [  66   77   88   99 1010]\n",
            " [1111 1212 1313 1414 1515]\n",
            " [1616 1717 1818 1919 2020]]\n",
            "\n",
            "Shape:\t(4, 5)\n",
            "Size:\t20\n",
            "Rank:\t3\n",
            "\n",
            "The matrix is:\n",
            "a non-square matrix\n",
            "not an empty matrix\n",
            "not an identity matrix\n",
            "not an ones matrix\n",
            "not a zeros matrix\n",
            "\n"
          ]
        }
      ]
    },
    {
      "cell_type": "markdown",
      "source": [
        "## Task 2 \n",
        "\n",
        "Create a function named mat_operations() that takes in two matrices a input parameters it should:\n",
        "\n",
        "1. Determines if the matrices are viable for operation and returns your own error message if they are not viable.\n",
        "2. Returns the sum of the matrices.\n",
        "3. Returns the differen of the matrices.\n",
        "4. Returns the element-wise multiplication of the matrices.\n",
        "5. Returns the element-wise division of the matrices.\n",
        "\n",
        "Use 3 sample matrices in which their shapes are not lower than (3,3). In your methodology, create a flowchart discuss the functions and methods you have done. Present your results in the results section showing the description of each matrix you have declared."
      ],
      "metadata": {
        "id": "rLIE5WvnQe3P"
      }
    },
    {
      "cell_type": "code",
      "source": [
        "## Matrix Declarations\n",
        "def mat_operations(X, Y):\n",
        "  X = np.array(X)\n",
        "  Y = np.array(Y)\n",
        "  print('Matrix 1:\\n', X)\n",
        "  print('Matrix 2:\\n', Y)\n",
        "\n",
        "  if(X.shape != Y.shape):\n",
        "    print('The shape of both matrices are not same. Could not perform operations.')\n",
        "  else:\n",
        "    print('Sum of the given matrices:')\n",
        "    sum_matrix = X + Y\n",
        "    print(sum_matrix)\n",
        "    print('Difference of the given matrices:')\n",
        "    diff_matrix = X - Y\n",
        "    print(diff_matrix)\n",
        "    print('Element-wise multiplication of the given matrices:')\n",
        "    prod_matrix = np.multiply(X, Y)\n",
        "    print(prod_matrix)\n",
        "    print('Element-wise division of the given matrices:')\n",
        "    quo_matrix = np.divide(X, Y)\n",
        "    print(quo_matrix) \n",
        "  return"
      ],
      "metadata": {
        "id": "WzUU1NX2BTAy"
      },
      "execution_count": null,
      "outputs": []
    },
    {
      "cell_type": "code",
      "source": [
        "## Test Areas\n",
        "X = np.array([\n",
        "              [10, 20, 30],\n",
        "              [40, 50, 60],\n",
        "              [70, 80, 90]\n",
        "])\n",
        "Y = np.array([\n",
        "              [90, 80, 70],\n",
        "              [60, 50, 40],\n",
        "              [30, 20, 10]\n",
        "])\n",
        "\n",
        "mat_operations(X, Y)"
      ],
      "metadata": {
        "colab": {
          "base_uri": "https://localhost:8080/"
        },
        "id": "0p3ZaoCGBWl4",
        "outputId": "258db190-48ed-45ac-a43e-e7ae1723be76"
      },
      "execution_count": null,
      "outputs": [
        {
          "output_type": "stream",
          "name": "stdout",
          "text": [
            "Matrix 1:\n",
            " [[10 20 30]\n",
            " [40 50 60]\n",
            " [70 80 90]]\n",
            "Matrix 2:\n",
            " [[90 80 70]\n",
            " [60 50 40]\n",
            " [30 20 10]]\n",
            "Sum of the given matrices:\n",
            "[[100 100 100]\n",
            " [100 100 100]\n",
            " [100 100 100]]\n",
            "Difference of the given matrices:\n",
            "[[-80 -60 -40]\n",
            " [-20   0  20]\n",
            " [ 40  60  80]]\n",
            "Element-wise multiplication of the given matrices:\n",
            "[[ 900 1600 2100]\n",
            " [2400 2500 2400]\n",
            " [2100 1600  900]]\n",
            "Element-wise division of the given matrices:\n",
            "[[0.11111111 0.25       0.42857143]\n",
            " [0.66666667 1.         1.5       ]\n",
            " [2.33333333 4.         9.        ]]\n"
          ]
        }
      ]
    },
    {
      "cell_type": "code",
      "source": [
        "## Test Areas\n",
        "X = np.array([\n",
        "              [10, 20, 30, 100],\n",
        "              [40, 50, 60, 200],\n",
        "              [70, 80, 90, 300]\n",
        "])\n",
        "Y = np.array([\n",
        "              [90, 80, 70],\n",
        "              [60, 50, 40],\n",
        "              [30, 20, 10],\n",
        "              [500, 300, 100]\n",
        "])\n",
        "\n",
        "mat_operations(X, Y)"
      ],
      "metadata": {
        "colab": {
          "base_uri": "https://localhost:8080/"
        },
        "id": "jJmcNTSWBZfm",
        "outputId": "b2a613bb-f836-4e98-8005-08f57ce38a8e"
      },
      "execution_count": null,
      "outputs": [
        {
          "output_type": "stream",
          "name": "stdout",
          "text": [
            "Matrix 1:\n",
            " [[ 10  20  30 100]\n",
            " [ 40  50  60 200]\n",
            " [ 70  80  90 300]]\n",
            "Matrix 2:\n",
            " [[ 90  80  70]\n",
            " [ 60  50  40]\n",
            " [ 30  20  10]\n",
            " [500 300 100]]\n",
            "The shape of both matrices are not same. Could not perform operations.\n"
          ]
        }
      ]
    },
    {
      "cell_type": "code",
      "source": [
        "## Test Areas\n",
        "X = np.array([\n",
        "              [10, 20, 30, 100],\n",
        "              [40, 50, 60, 200],\n",
        "              [70, 80, 90, 300],\n",
        "              [95, 85, 75, 400],\n",
        "              [65, 55, 45, 600]\n",
        "])\n",
        "Y = np.array([\n",
        "              [90, 80, 70, 900],\n",
        "              [60, 50, 40, 800],\n",
        "              [30, 20, 10, 700],\n",
        "              [500, 300, 100, 600],\n",
        "              [150, 250, 350, 500]\n",
        "])\n",
        "\n",
        "mat_operations(X, Y)"
      ],
      "metadata": {
        "colab": {
          "base_uri": "https://localhost:8080/"
        },
        "id": "o8FFMnSBBhYu",
        "outputId": "3b1bb8a1-ed8a-4492-eeb8-3aaf85ca153b"
      },
      "execution_count": null,
      "outputs": [
        {
          "output_type": "stream",
          "name": "stdout",
          "text": [
            "Matrix 1:\n",
            " [[ 10  20  30 100]\n",
            " [ 40  50  60 200]\n",
            " [ 70  80  90 300]\n",
            " [ 95  85  75 400]\n",
            " [ 65  55  45 600]]\n",
            "Matrix 2:\n",
            " [[ 90  80  70 900]\n",
            " [ 60  50  40 800]\n",
            " [ 30  20  10 700]\n",
            " [500 300 100 600]\n",
            " [150 250 350 500]]\n",
            "Sum of the given matrices:\n",
            "[[ 100  100  100 1000]\n",
            " [ 100  100  100 1000]\n",
            " [ 100  100  100 1000]\n",
            " [ 595  385  175 1000]\n",
            " [ 215  305  395 1100]]\n",
            "Difference of the given matrices:\n",
            "[[ -80  -60  -40 -800]\n",
            " [ -20    0   20 -600]\n",
            " [  40   60   80 -400]\n",
            " [-405 -215  -25 -200]\n",
            " [ -85 -195 -305  100]]\n",
            "Element-wise multiplication of the given matrices:\n",
            "[[   900   1600   2100  90000]\n",
            " [  2400   2500   2400 160000]\n",
            " [  2100   1600    900 210000]\n",
            " [ 47500  25500   7500 240000]\n",
            " [  9750  13750  15750 300000]]\n",
            "Element-wise division of the given matrices:\n",
            "[[0.11111111 0.25       0.42857143 0.11111111]\n",
            " [0.66666667 1.         1.5        0.25      ]\n",
            " [2.33333333 4.         9.         0.42857143]\n",
            " [0.19       0.28333333 0.75       0.66666667]\n",
            " [0.43333333 0.22       0.12857143 1.2       ]]\n"
          ]
        }
      ]
    },
    {
      "cell_type": "markdown",
      "source": [
        "#DONE, Thank You."
      ],
      "metadata": {
        "id": "BVxwp93EXh4c"
      }
    }
  ]
}