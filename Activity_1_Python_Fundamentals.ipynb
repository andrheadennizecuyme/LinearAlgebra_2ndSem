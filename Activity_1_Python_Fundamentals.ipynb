{
  "nbformat": 4,
  "nbformat_minor": 0,
  "metadata": {
    "colab": {
      "name": "Activity 1 - Python Fundamentals",
      "provenance": [],
      "collapsed_sections": [],
      "toc_visible": true,
      "authorship_tag": "ABX9TyMu0LIWoN8NapYiQ2jkZJQA",
      "include_colab_link": true
    },
    "kernelspec": {
      "name": "python3",
      "display_name": "Python 3"
    },
    "language_info": {
      "name": "python"
    }
  },
  "cells": [
    {
      "cell_type": "markdown",
      "metadata": {
        "id": "view-in-github",
        "colab_type": "text"
      },
      "source": [
        "<a href=\"https://colab.research.google.com/github/andrheadennizecuyme/LinearAlgebra_2ndSem/blob/main/Activity_1_Python_Fundamentals.ipynb\" target=\"_parent\"><img src=\"https://colab.research.google.com/assets/colab-badge.svg\" alt=\"Open In Colab\"/></a>"
      ]
    },
    {
      "cell_type": "markdown",
      "source": [
        "# Welcome to Python Fundamentals\n",
        "In this module, we are going to establish or review our skills in Python programming. In this notebook we are going to cover:\n",
        "* Variables and Data Types \n",
        "* Operations\n",
        "* Input and Output Operations\n",
        "* Logic Control\n",
        "* Iterables\n",
        "* Functions"
      ],
      "metadata": {
        "id": "6l1dRJf5uFvX"
      }
    },
    {
      "cell_type": "markdown",
      "source": [
        "## Variable and Data Types\n",
        "Variables and Data types in python as the name suggests are the values that vary. In a programming language, a variable is a memory location where you store a value. The value that you have stored may change in the future according to the specifications. A Variable in python is created as soon as a value is assigned to it. It does not need any additional commands to declare a variable in python. On the other note, data types are the classification or categorization of data items. It represents the kind of value that tells what operations can be performed on a particular data. Since everything is an object in Python programming, data types are actually classes and variables are instance  of these classes."
      ],
      "metadata": {
        "id": "gmBGS5JyuZk-"
      }
    },
    {
      "cell_type": "code",
      "source": [
        "x = 1\n",
        "a, c = 9, 2\n",
        "x"
      ],
      "metadata": {
        "colab": {
          "base_uri": "https://localhost:8080/"
        },
        "id": "3WQtPd4kumtW",
        "outputId": "2accd07b-2309-4124-a7b0-1f1f1743ac66"
      },
      "execution_count": null,
      "outputs": [
        {
          "output_type": "execute_result",
          "data": {
            "text/plain": [
              "1"
            ]
          },
          "metadata": {},
          "execution_count": 4
        }
      ]
    },
    {
      "cell_type": "code",
      "source": [
        "type(x)"
      ],
      "metadata": {
        "colab": {
          "base_uri": "https://localhost:8080/"
        },
        "id": "Ob4qGTTUvWiz",
        "outputId": "ab555177-46e5-4e72-c5a0-5d469630f012"
      },
      "execution_count": null,
      "outputs": [
        {
          "output_type": "execute_result",
          "data": {
            "text/plain": [
              "int"
            ]
          },
          "metadata": {},
          "execution_count": 6
        }
      ]
    },
    {
      "cell_type": "code",
      "source": [
        "y = 1.0\n",
        "type(y)"
      ],
      "metadata": {
        "colab": {
          "base_uri": "https://localhost:8080/"
        },
        "id": "BZfDpKxjvoF2",
        "outputId": "e61604f3-fe2e-4761-e04c-b126d967f900"
      },
      "execution_count": null,
      "outputs": [
        {
          "output_type": "execute_result",
          "data": {
            "text/plain": [
              "float"
            ]
          },
          "metadata": {},
          "execution_count": 8
        }
      ]
    },
    {
      "cell_type": "code",
      "source": [
        "x = float(x)\n",
        "type(x)"
      ],
      "metadata": {
        "colab": {
          "base_uri": "https://localhost:8080/"
        },
        "id": "s9hTpgN2wdI6",
        "outputId": "3e58347f-131c-40a4-a904-4363f458043f"
      },
      "execution_count": null,
      "outputs": [
        {
          "output_type": "execute_result",
          "data": {
            "text/plain": [
              "float"
            ]
          },
          "metadata": {},
          "execution_count": 15
        }
      ]
    },
    {
      "cell_type": "code",
      "source": [
        "a,b,c = \"0\", '9', 'zero'\n",
        "type(a)"
      ],
      "metadata": {
        "colab": {
          "base_uri": "https://localhost:8080/"
        },
        "id": "7XSkpaLAwqAo",
        "outputId": "1b0cc97c-fc94-44f9-9e84-13e68fcfdb94"
      },
      "execution_count": null,
      "outputs": [
        {
          "output_type": "execute_result",
          "data": {
            "text/plain": [
              "str"
            ]
          },
          "metadata": {},
          "execution_count": 23
        }
      ]
    },
    {
      "cell_type": "code",
      "source": [
        "s_int = int(s)\n",
        "s_int"
      ],
      "metadata": {
        "colab": {
          "base_uri": "https://localhost:8080/"
        },
        "id": "adK6CFMexJWo",
        "outputId": "56f9e9cd-544f-4eac-b15c-17d2d8268e1d"
      },
      "execution_count": null,
      "outputs": [
        {
          "output_type": "execute_result",
          "data": {
            "text/plain": [
              "0"
            ]
          },
          "metadata": {},
          "execution_count": 27
        }
      ]
    },
    {
      "cell_type": "code",
      "source": [
        "t_int = int(t)\n",
        "type(t)"
      ],
      "metadata": {
        "colab": {
          "base_uri": "https://localhost:8080/"
        },
        "id": "p2O-SkLMxvJh",
        "outputId": "d15ccaad-9b1e-41ed-9e9d-8061d0b8f55d"
      },
      "execution_count": null,
      "outputs": [
        {
          "output_type": "execute_result",
          "data": {
            "text/plain": [
              "str"
            ]
          },
          "metadata": {},
          "execution_count": 28
        }
      ]
    },
    {
      "cell_type": "markdown",
      "source": [
        "## Operations\n",
        "Operators are special symbols in Python that carry out arithmetic or logical computation. The value that the operator operates on is called the operand. According to TechVivan, operator is a symbol that will perform mathematical operations on variables or on values. Operators operate on operands (values) and return a result."
      ],
      "metadata": {
        "id": "LwBd8QufyHiV"
      }
    },
    {
      "cell_type": "markdown",
      "source": [
        "## Arithmetic\n",
        "Arithmetic operators are used to perform mathematical operations like Addition, Subtraction, Multiplication, Division, Exponentiation, Floor division, and Modulus."
      ],
      "metadata": {
        "id": "9KX94rkLyYGO"
      }
    },
    {
      "cell_type": "code",
      "source": [
        "a,b,c,d = 99, -736, 4777, -0.865"
      ],
      "metadata": {
        "id": "LrIl-u9nzK8c"
      },
      "execution_count": null,
      "outputs": []
    },
    {
      "cell_type": "code",
      "source": [
        "### Addition\n",
        "S = a+b\n",
        "S"
      ],
      "metadata": {
        "colab": {
          "base_uri": "https://localhost:8080/"
        },
        "id": "NEj19rnCy7xB",
        "outputId": "1dc54502-42a5-44a3-d6bf-1c2206feba48"
      },
      "execution_count": null,
      "outputs": [
        {
          "output_type": "execute_result",
          "data": {
            "text/plain": [
              "-637"
            ]
          },
          "metadata": {},
          "execution_count": 5
        }
      ]
    },
    {
      "cell_type": "code",
      "source": [
        "### Subtraction\n",
        "S = c-a\n",
        "S"
      ],
      "metadata": {
        "colab": {
          "base_uri": "https://localhost:8080/"
        },
        "id": "PYVvRW3izE_L",
        "outputId": "09fbd384-e1e1-4cfb-e3c2-5802fab586b3"
      },
      "execution_count": null,
      "outputs": [
        {
          "output_type": "execute_result",
          "data": {
            "text/plain": [
              "4678"
            ]
          },
          "metadata": {},
          "execution_count": 6
        }
      ]
    },
    {
      "cell_type": "code",
      "source": [
        "### Multiplication\n",
        "S = b*c\n",
        "S\n"
      ],
      "metadata": {
        "colab": {
          "base_uri": "https://localhost:8080/"
        },
        "id": "I7w2PHIezSSZ",
        "outputId": "d384431c-bb40-4096-9bac-2dfc701ef4b5"
      },
      "execution_count": null,
      "outputs": [
        {
          "output_type": "execute_result",
          "data": {
            "text/plain": [
              "-3515872"
            ]
          },
          "metadata": {},
          "execution_count": 7
        }
      ]
    },
    {
      "cell_type": "code",
      "source": [
        "### Division\n",
        "S = a/d\n",
        "S"
      ],
      "metadata": {
        "colab": {
          "base_uri": "https://localhost:8080/"
        },
        "id": "b6zCLf-MzSux",
        "outputId": "71f2a31c-d5b3-447e-efbd-98653c6b9326"
      },
      "execution_count": null,
      "outputs": [
        {
          "output_type": "execute_result",
          "data": {
            "text/plain": [
              "-114.45086705202313"
            ]
          },
          "metadata": {},
          "execution_count": 8
        }
      ]
    },
    {
      "cell_type": "code",
      "source": [
        "### Floor Division\n",
        "Fq = a//d\n",
        "Fq"
      ],
      "metadata": {
        "colab": {
          "base_uri": "https://localhost:8080/"
        },
        "id": "SZL-bMBIz7-B",
        "outputId": "6a4f6ed8-89dd-4624-e581-1f3075bcf820"
      },
      "execution_count": null,
      "outputs": [
        {
          "output_type": "execute_result",
          "data": {
            "text/plain": [
              "-115.0"
            ]
          },
          "metadata": {},
          "execution_count": 9
        }
      ]
    },
    {
      "cell_type": "code",
      "source": [
        "### Exponentiation\n",
        "E = a**b\n",
        "E"
      ],
      "metadata": {
        "colab": {
          "base_uri": "https://localhost:8080/"
        },
        "id": "b_YkMrfq0H45",
        "outputId": "9e9f17d7-6844-4879-d0ff-9cf54a0b89c3"
      },
      "execution_count": null,
      "outputs": [
        {
          "output_type": "execute_result",
          "data": {
            "text/plain": [
              "0.0"
            ]
          },
          "metadata": {},
          "execution_count": 10
        }
      ]
    },
    {
      "cell_type": "code",
      "source": [
        "### Modulo\n",
        "mod = d%a\n",
        "mod"
      ],
      "metadata": {
        "colab": {
          "base_uri": "https://localhost:8080/"
        },
        "id": "iQj9poVj0e8p",
        "outputId": "f58fefd1-9426-47b8-9843-488efe3ee9e9"
      },
      "execution_count": null,
      "outputs": [
        {
          "output_type": "execute_result",
          "data": {
            "text/plain": [
              "98.135"
            ]
          },
          "metadata": {},
          "execution_count": 11
        }
      ]
    },
    {
      "cell_type": "markdown",
      "source": [
        "## Assignment Operations\n",
        "Assignment operators are used in Python to assign values to variables. Also, a = 5 is a simple assignment operator that assigns the value 5 on the right to the variable a on the left. There are various compound operators in Python like a += 5 that adds to the variable and later assigns the same. It is equivalent to a = a + 5. Python has 8 assignment operators, which are:  Assign, Add and assign, Subtract and assign, Multiply and assign, Divide and assign, Modulus and assign, Exponentiation and assign, and Floor-divide and assign."
      ],
      "metadata": {
        "id": "gpV1fI7F0_P3"
      }
    },
    {
      "cell_type": "code",
      "source": [
        "G, J, H, K = 0, 100, 2, 2"
      ],
      "metadata": {
        "id": "k4XUBWDi1Dwr"
      },
      "execution_count": null,
      "outputs": []
    },
    {
      "cell_type": "code",
      "source": [
        "G += a\n",
        "G"
      ],
      "metadata": {
        "colab": {
          "base_uri": "https://localhost:8080/"
        },
        "id": "J5mDBdIe1UYE",
        "outputId": "277427c9-3a5c-47cc-c8d9-645d714c17e1"
      },
      "execution_count": null,
      "outputs": [
        {
          "output_type": "execute_result",
          "data": {
            "text/plain": [
              "99"
            ]
          },
          "metadata": {},
          "execution_count": 13
        }
      ]
    },
    {
      "cell_type": "code",
      "source": [
        "H += d\n",
        "H"
      ],
      "metadata": {
        "colab": {
          "base_uri": "https://localhost:8080/"
        },
        "id": "CU9_nhNm1tfP",
        "outputId": "90c7a027-cec3-4834-9cff-d8396fdbf1db"
      },
      "execution_count": null,
      "outputs": [
        {
          "output_type": "execute_result",
          "data": {
            "text/plain": [
              "1.135"
            ]
          },
          "metadata": {},
          "execution_count": 14
        }
      ]
    },
    {
      "cell_type": "code",
      "source": [
        "J *= 2\n",
        "J"
      ],
      "metadata": {
        "id": "6dMBrIDH1trV"
      },
      "execution_count": null,
      "outputs": []
    },
    {
      "cell_type": "code",
      "source": [
        "K **= 2\n",
        "K"
      ],
      "metadata": {
        "colab": {
          "base_uri": "https://localhost:8080/"
        },
        "id": "NwbYyKBw1t3n",
        "outputId": "32aab8eb-76db-4d3b-9545-01a95351cfc0"
      },
      "execution_count": null,
      "outputs": [
        {
          "output_type": "execute_result",
          "data": {
            "text/plain": [
              "4"
            ]
          },
          "metadata": {},
          "execution_count": 58
        }
      ]
    },
    {
      "cell_type": "markdown",
      "source": [
        "## Comparators\n",
        "Comparison operators are used to compare values. It returns either True or False according to the condition."
      ],
      "metadata": {
        "id": "yyAiMDif2YIG"
      }
    },
    {
      "cell_type": "code",
      "source": [
        "res_1, res_2, res_3 = 1, 2.0, \"1\"\n",
        "true_val = 1.0"
      ],
      "metadata": {
        "id": "SjZzqi5b3Y_s"
      },
      "execution_count": null,
      "outputs": []
    },
    {
      "cell_type": "code",
      "source": [
        "## Equality\n",
        "res_1 == true_val"
      ],
      "metadata": {
        "colab": {
          "base_uri": "https://localhost:8080/"
        },
        "id": "lWLeyP-h3seY",
        "outputId": "bdcbd441-694c-4af8-b7b4-966c1e775bc2"
      },
      "execution_count": null,
      "outputs": [
        {
          "output_type": "execute_result",
          "data": {
            "text/plain": [
              "True"
            ]
          },
          "metadata": {},
          "execution_count": 16
        }
      ]
    },
    {
      "cell_type": "code",
      "source": [
        "## Non-equality\n",
        "res_2 != true_val"
      ],
      "metadata": {
        "colab": {
          "base_uri": "https://localhost:8080/"
        },
        "id": "mqp9GifK32UL",
        "outputId": "2dd8150e-6fb2-45a9-80c8-8d9c7d83a7c1"
      },
      "execution_count": null,
      "outputs": [
        {
          "output_type": "execute_result",
          "data": {
            "text/plain": [
              "True"
            ]
          },
          "metadata": {},
          "execution_count": 17
        }
      ]
    },
    {
      "cell_type": "code",
      "source": [
        "## Inequality\n",
        "t1 = res_1 > res_2\n",
        "t2 = res_1 < res_2/2\n",
        "t3 = res_1 >= res_2/2\n",
        "t4 = res_1 <= res_2*2\n",
        "t4"
      ],
      "metadata": {
        "colab": {
          "base_uri": "https://localhost:8080/"
        },
        "id": "ivTMSHIA4Ayb",
        "outputId": "c7304054-0df8-4d33-bf2b-4fdf6d1373d9"
      },
      "execution_count": null,
      "outputs": [
        {
          "output_type": "execute_result",
          "data": {
            "text/plain": [
              "True"
            ]
          },
          "metadata": {},
          "execution_count": 18
        }
      ]
    },
    {
      "cell_type": "markdown",
      "source": [
        "## Logical\n",
        "Logical operators can be categorized into three: The Logical and, Logical or, and Logical not."
      ],
      "metadata": {
        "id": "YQvh2E-74xRj"
      }
    },
    {
      "cell_type": "code",
      "source": [
        "res_1 == true_val"
      ],
      "metadata": {
        "colab": {
          "base_uri": "https://localhost:8080/"
        },
        "id": "dHjTTChB0w0-",
        "outputId": "81a108b8-5f52-433a-b6b5-2747c1333286"
      },
      "execution_count": null,
      "outputs": [
        {
          "output_type": "execute_result",
          "data": {
            "text/plain": [
              "True"
            ]
          },
          "metadata": {},
          "execution_count": 19
        }
      ]
    },
    {
      "cell_type": "code",
      "source": [
        "res_1 is true_val"
      ],
      "metadata": {
        "colab": {
          "base_uri": "https://localhost:8080/"
        },
        "id": "DR_x5f7I5TCp",
        "outputId": "b886eecc-50fb-411f-db89-267cb4b3ddd1"
      },
      "execution_count": null,
      "outputs": [
        {
          "output_type": "execute_result",
          "data": {
            "text/plain": [
              "False"
            ]
          },
          "metadata": {},
          "execution_count": 20
        }
      ]
    },
    {
      "cell_type": "code",
      "source": [
        "res_1 is not true_val"
      ],
      "metadata": {
        "colab": {
          "base_uri": "https://localhost:8080/"
        },
        "id": "bl5Uce2R5ehh",
        "outputId": "f4601878-8ae7-4f63-8737-f311481353c4"
      },
      "execution_count": null,
      "outputs": [
        {
          "output_type": "execute_result",
          "data": {
            "text/plain": [
              "True"
            ]
          },
          "metadata": {},
          "execution_count": 80
        }
      ]
    },
    {
      "cell_type": "code",
      "source": [
        "x, y = True, False\n",
        "conj = x and y\n",
        "conj"
      ],
      "metadata": {
        "colab": {
          "base_uri": "https://localhost:8080/"
        },
        "id": "_qTz1kVg5luX",
        "outputId": "01e721b6-12cd-4b0d-9291-b2f2f9845ea2"
      },
      "execution_count": null,
      "outputs": [
        {
          "output_type": "execute_result",
          "data": {
            "text/plain": [
              "False"
            ]
          },
          "metadata": {},
          "execution_count": 86
        }
      ]
    },
    {
      "cell_type": "code",
      "source": [
        "x, y = True, False\n",
        "disj = x or y\n",
        "disj"
      ],
      "metadata": {
        "colab": {
          "base_uri": "https://localhost:8080/"
        },
        "id": "UBdCdZnw5w2O",
        "outputId": "e60bc9cb-c839-4add-9089-89977e66d0f4"
      },
      "execution_count": null,
      "outputs": [
        {
          "output_type": "execute_result",
          "data": {
            "text/plain": [
              "True"
            ]
          },
          "metadata": {},
          "execution_count": 88
        }
      ]
    },
    {
      "cell_type": "code",
      "source": [
        "x, y = True, False\n",
        "nand = not (x and y)\n",
        "nand"
      ],
      "metadata": {
        "colab": {
          "base_uri": "https://localhost:8080/"
        },
        "id": "B5T6eP_w6zDu",
        "outputId": "64640972-f611-45ec-9c84-bce911527436"
      },
      "execution_count": null,
      "outputs": [
        {
          "output_type": "execute_result",
          "data": {
            "text/plain": [
              "True"
            ]
          },
          "metadata": {},
          "execution_count": 89
        }
      ]
    },
    {
      "cell_type": "code",
      "source": [
        "x, y = True, False\n",
        "xor = (not x and y) or (x and not y)\n",
        "xor"
      ],
      "metadata": {
        "colab": {
          "base_uri": "https://localhost:8080/"
        },
        "id": "Ipg0qYFz7SHj",
        "outputId": "c7b6c7e5-5cdc-4cfc-ad67-3119411aae69"
      },
      "execution_count": null,
      "outputs": [
        {
          "output_type": "execute_result",
          "data": {
            "text/plain": [
              "True"
            ]
          },
          "metadata": {},
          "execution_count": 90
        }
      ]
    },
    {
      "cell_type": "markdown",
      "source": [
        "### I/O\n",
        "Python provides numerous built-in functions that are readily available to us at the Python prompt. Some of the functions like input() and print() are widely used for standard input and output operations respectively. Input is any information or data sent to the computer from the user through the keyboard, while Output is information produced by the computer to the user. Python provides us with the two inbuilt functions as input() and output().\n",
        "\n",
        "The syntax for input is input(prompt_message). The python will automatically identify whether the user entered a string, number, or list; if the input entered from the user is not correct, then python will throw a syntax error. And the syntax for the output in python is print(), normally used to print the output.\n"
      ],
      "metadata": {
        "id": "J9kiS_A97zJB"
      }
    },
    {
      "cell_type": "code",
      "source": [
        "print(\"Hello Love\")"
      ],
      "metadata": {
        "colab": {
          "base_uri": "https://localhost:8080/"
        },
        "id": "CKOadvbM73HT",
        "outputId": "96422610-ce46-4ebd-945d-4b3665f55b58"
      },
      "execution_count": null,
      "outputs": [
        {
          "output_type": "stream",
          "name": "stdout",
          "text": [
            "Hello Love\n"
          ]
        }
      ]
    },
    {
      "cell_type": "code",
      "source": [
        "cnt = 1"
      ],
      "metadata": {
        "id": "vQckBO867_5k"
      },
      "execution_count": null,
      "outputs": []
    },
    {
      "cell_type": "code",
      "source": [
        "string = \"Hello Love\"\n",
        "print(string, \", Current run count is:\", cnt)\n",
        "cnt += 1"
      ],
      "metadata": {
        "colab": {
          "base_uri": "https://localhost:8080/"
        },
        "id": "4ugHlZJH8LCG",
        "outputId": "d3f1605b-edd7-4044-88d8-caa73bb4f284"
      },
      "execution_count": null,
      "outputs": [
        {
          "output_type": "stream",
          "name": "stdout",
          "text": [
            "Hello Love , Current run count is: 1\n"
          ]
        }
      ]
    },
    {
      "cell_type": "code",
      "source": [
        "print (f\"{string}, Current count is: {cnt}\")"
      ],
      "metadata": {
        "colab": {
          "base_uri": "https://localhost:8080/"
        },
        "id": "mG6Ziuc_8khk",
        "outputId": "03c01aed-07f6-4451-a8cb-8e098eaf4e63"
      },
      "execution_count": null,
      "outputs": [
        {
          "output_type": "stream",
          "name": "stdout",
          "text": [
            "Hello Love, Current count is: 2\n"
          ]
        }
      ]
    },
    {
      "cell_type": "code",
      "source": [
        "sem_grade = 99.00\n",
        "name = \"Love\"\n",
        "print(\"Hello {}, your semestral grade is: {}\".format(name, sem_grade))"
      ],
      "metadata": {
        "colab": {
          "base_uri": "https://localhost:8080/"
        },
        "id": "F04d5Qi99JW2",
        "outputId": "58fb3817-abf9-4a2b-ef9c-ed52f8e7c71b"
      },
      "execution_count": null,
      "outputs": [
        {
          "output_type": "stream",
          "name": "stdout",
          "text": [
            "Hello Love, your semestral grade is: 99.0\n"
          ]
        }
      ]
    },
    {
      "cell_type": "code",
      "source": [
        "w_pg, w_mg, w_fg = 0.3, 0.3, 0.4\n",
        "print(\"The weights of your semestral grades are:\\\n",
        "\\n\\t{:.2%} for Prelims\\\n",
        "\\n\\t{:.2%} for Midterms, and\\\n",
        "\\n\\t{:.2%} for Finals.\".format(w_pg, w_mg, w_fg))"
      ],
      "metadata": {
        "colab": {
          "base_uri": "https://localhost:8080/"
        },
        "id": "PiohSSpJ9O-I",
        "outputId": "4531da96-aec5-47a3-b4c3-444d1b8a589b"
      },
      "execution_count": null,
      "outputs": [
        {
          "output_type": "stream",
          "name": "stdout",
          "text": [
            "The weights of your semestral grades are:\n",
            "\t30.00% for Prelims\n",
            "\t30.00% for Midterms, and\n",
            "\t40.00% for Finals.\n"
          ]
        }
      ]
    },
    {
      "cell_type": "code",
      "source": [
        "x = input(\"enter a number: \")\n",
        "x"
      ],
      "metadata": {
        "colab": {
          "base_uri": "https://localhost:8080/",
          "height": 53
        },
        "id": "Fzm960UtsQ_p",
        "outputId": "8af80482-bfcb-4c0c-d9c4-8159f89e56ef"
      },
      "execution_count": null,
      "outputs": [
        {
          "name": "stdout",
          "output_type": "stream",
          "text": [
            "enter a number: 90\n"
          ]
        },
        {
          "output_type": "execute_result",
          "data": {
            "application/vnd.google.colaboratory.intrinsic+json": {
              "type": "string"
            },
            "text/plain": [
              "'90'"
            ]
          },
          "metadata": {},
          "execution_count": 7
        }
      ]
    },
    {
      "cell_type": "code",
      "source": [
        "name = input(\"kimi no nawa: \")\n",
        "pg = input(\"Enter prelim grade: \")\n",
        "mg = input(\"Enter midterm grade: \")\n",
        "fg = input(\"Enter final grade: \")\n",
        "sem_grade = None\n",
        "print(\"Hello {}, your semestral grade is: {}\".format(name, sem_grade))"
      ],
      "metadata": {
        "colab": {
          "base_uri": "https://localhost:8080/"
        },
        "id": "FYWo0L_Ct4yf",
        "outputId": "115d645c-3974-414c-d126-decfc94fb940"
      },
      "execution_count": null,
      "outputs": [
        {
          "output_type": "stream",
          "name": "stdout",
          "text": [
            "kimi no nawa: andrhea\n",
            "Enter prelim grade: 88\n",
            "Enter midterm grade: 90\n",
            "Enter final grade: 100\n",
            "Hello andrhea, your semestral grade is: None\n"
          ]
        }
      ]
    },
    {
      "cell_type": "markdown",
      "source": [
        "### Looping Statements\n",
        "A loop statement in Python allows us to execute a statement or group of statements multiple times. There are two types of loops available in Python, those are: while loop, for loop."
      ],
      "metadata": {
        "id": "qJwz5g_PvuEv"
      }
    },
    {
      "cell_type": "markdown",
      "source": [
        "### While\n",
        "While looping statement executes a block of statements repeatedly as long as the condition is TRUE. It tests the condition before executing the loop body."
      ],
      "metadata": {
        "id": "hm5UEZJ5wExN"
      }
    },
    {
      "cell_type": "code",
      "source": [
        "## while loops\n",
        "i, j = 9, 10\n",
        "while(i<=j):\n",
        "  print(f\"{i}\\t|\\t{j}\")\n",
        "  i+=1\n"
      ],
      "metadata": {
        "colab": {
          "base_uri": "https://localhost:8080/"
        },
        "id": "m1oSwQo3wGgl",
        "outputId": "d4600049-6a14-45ab-a859-a662a5e2d4ec"
      },
      "execution_count": null,
      "outputs": [
        {
          "output_type": "stream",
          "name": "stdout",
          "text": [
            "9\t|\t10\n",
            "10\t|\t10\n"
          ]
        }
      ]
    },
    {
      "cell_type": "markdown",
      "source": [
        "### For\n",
        "For looping statement is an iterator-based loop, which steps through the items of iterable objects like lists, tuples, strings and executes a piece of code repeatedly for a number of times, based on the number of items in that iterable object. For execute a sequence of statements multiple times and abbreviate the code that manages the loop variable.\n"
      ],
      "metadata": {
        "id": "xPzSVtIRwtdl"
      }
    },
    {
      "cell_type": "code",
      "source": [
        "# for(int i=0; i<10; i++){\n",
        "# printf(i)\n",
        "# }\n",
        "i=0\n",
        "for i in range(10):\n",
        "    print(i)"
      ],
      "metadata": {
        "colab": {
          "base_uri": "https://localhost:8080/"
        },
        "id": "XWn0l-1HztoM",
        "outputId": "930394fd-d74c-4f9d-e275-6d1d33f73319"
      },
      "execution_count": null,
      "outputs": [
        {
          "output_type": "stream",
          "name": "stdout",
          "text": [
            "0\n",
            "1\n",
            "2\n",
            "3\n",
            "4\n",
            "5\n",
            "6\n",
            "7\n",
            "8\n",
            "9\n"
          ]
        }
      ]
    },
    {
      "cell_type": "code",
      "source": [
        "playlist = [\"Yummy\", \"Blank Space\", \"All too Well\"]\n",
        "print('Now playing:\\n')\n",
        "for song in playlist:\n",
        "  print(song)\n"
      ],
      "metadata": {
        "colab": {
          "base_uri": "https://localhost:8080/"
        },
        "id": "gUP_zbK1yK8N",
        "outputId": "3341d93b-35f7-4773-887f-c11fbf572c88"
      },
      "execution_count": null,
      "outputs": [
        {
          "output_type": "stream",
          "name": "stdout",
          "text": [
            "Now playing:\n",
            "\n",
            "Yummy\n",
            "Blank Space\n",
            "All too Well\n"
          ]
        }
      ]
    },
    {
      "cell_type": "markdown",
      "source": [
        "### Condition Statements\n",
        "Conditional Statement in Python perform different computations or actions depending on whether a specific Boolean constraint evaluates to true or false. Conditional statements are handled by IF statements in Python. Python has six conditional statements, which are: If the statement, If else statement, Nested if statement, If…Elif ladder, Short Hand if statement, Short Hand if-else statement"
      ],
      "metadata": {
        "id": "hm9ZGTVty18C"
      }
    },
    {
      "cell_type": "code",
      "source": [
        "numeral1, numeral2 = 9, 10\n",
        "if(numeral1 == numeral2):\n",
        "  print(\"Lmao\")\n",
        "elif(numeral1>numeral2):\n",
        "  print(\"Lol\")\n",
        "else:\n",
        "  print(\"Wtf\")"
      ],
      "metadata": {
        "colab": {
          "base_uri": "https://localhost:8080/"
        },
        "id": "inC23fmZy8ng",
        "outputId": "2aa44113-4f80-4cc5-8017-a30dd7503661"
      },
      "execution_count": null,
      "outputs": [
        {
          "output_type": "stream",
          "name": "stdout",
          "text": [
            "Wtf\n"
          ]
        }
      ]
    },
    {
      "cell_type": "markdown",
      "source": [
        "### Functions\n",
        "Functions are an essential part of the Python programming language. In Python, a function is a group of related statements that performs a specific task. Functions help break our program into smaller and modular chunks. As our program grows larger and larger, functions make it more organized and manageable. Furthermore, it avoids repetition and makes the code reusable."
      ],
      "metadata": {
        "id": "y_7EnAGP1ebG"
      }
    },
    {
      "cell_type": "code",
      "source": [
        "# void DeleteUser(int_userid){\n",
        "#   delete(userid);\n",
        "#}\n",
        "\n",
        "def delete_user (userid):\n",
        "  print(\"Successfully deleted user: {}\".format(userid))\n",
        "  \n",
        "def delete_all_users ():\n",
        "  print(\"Elite\")"
      ],
      "metadata": {
        "id": "tlUvIaDF1kjU"
      },
      "execution_count": null,
      "outputs": []
    },
    {
      "cell_type": "code",
      "source": [
        "userid = \"Andres\"\n",
        "delete_user(\"Andres\")\n",
        "delete_all_users()"
      ],
      "metadata": {
        "colab": {
          "base_uri": "https://localhost:8080/"
        },
        "id": "d8gcwH1_22Qu",
        "outputId": "7309fbe9-1d6c-42d3-a4a7-14d9f2c000ab"
      },
      "execution_count": null,
      "outputs": [
        {
          "output_type": "stream",
          "name": "stdout",
          "text": [
            "Successfully deleted user: Andres\n",
            "Elite\n"
          ]
        }
      ]
    },
    {
      "cell_type": "code",
      "source": [
        "def add(addend1, addend2):\n",
        "    return addend1 + addend2\n",
        "\n",
        "def power_of_base2(exponent):\n",
        "    return 2**exponent\n"
      ],
      "metadata": {
        "id": "SLdn3PgV3QD_"
      },
      "execution_count": null,
      "outputs": []
    },
    {
      "cell_type": "code",
      "source": [
        "#addend1, addend2 = 69, 69\n",
        "#add(addend1, addend2)\n",
        "\n",
        "exponent = 69\n",
        "power_of_base2(exponent)"
      ],
      "metadata": {
        "colab": {
          "base_uri": "https://localhost:8080/"
        },
        "id": "VnwgGdOT3-CW",
        "outputId": "f288e4e8-fc92-48bb-e1e2-4262ab811974"
      },
      "execution_count": null,
      "outputs": [
        {
          "output_type": "execute_result",
          "data": {
            "text/plain": [
              "590295810358705651712"
            ]
          },
          "metadata": {},
          "execution_count": 36
        }
      ]
    },
    {
      "cell_type": "markdown",
      "source": [
        "### TASK"
      ],
      "metadata": {
        "id": "mtpi1aVipTKU"
      }
    },
    {
      "cell_type": "code",
      "source": [
        "name = input(\"Name: \")\n",
        "program = input(\"Program: \")\n",
        "level = input(\"Level: \")\n",
        "course = input(\"Course: \")\n",
        "pre = input(\"Enter Prelim Grade: \")\n",
        "mid = input(\"Enter Midterm Grade: \")\n",
        "fin = input(\"Enter Final Grade: \")\n",
        "pr = float(pre)\n",
        "mi = float(mid)\n",
        "fi = float(fin)\n",
        "sem = pr*0.30 + mi*0.30 + fi*0.40\n",
        "se = \"{:.2f}\".format(sem)\n",
        "s = float(se)\n",
        "ave = 70.00\n",
        "if(s == ave):\n",
        "  print(\"Good day, Miss Andrhea, your semestral grade is:\",se, \"\\U0001F606\")\n",
        "elif(s>ave):\n",
        "  print(\"Good day, Miss Andrhea, your semestral grade is:\",se, \"\\U0001F970\")\n",
        "else:\n",
        "  print(\"Good day, Miss Andrhea, your semestral grade is:\",se, \"\\U0001F643\")\n",
        "\n"
      ],
      "metadata": {
        "colab": {
          "base_uri": "https://localhost:8080/"
        },
        "id": "sAXbwuIopbnL",
        "outputId": "a65f8ae4-aa60-40f1-a9d4-7983159a6307"
      },
      "execution_count": null,
      "outputs": [
        {
          "output_type": "stream",
          "name": "stdout",
          "text": [
            "Name: Andrhea Dennize D. Cuyme\n",
            "Program: BS ChE\n",
            "Level: 2nd\n",
            "Course: Linear Algebra\n",
            "Enter Prelim Grade: 90\n",
            "Enter Midterm Grade: 90\n",
            "Enter Final Grade: 90\n",
            "Good day, Miss Andrhea, your semestral grade is: 90.00 🥰\n"
          ]
        }
      ]
    }
  ]
}