{
  "nbformat": 4,
  "nbformat_minor": 0,
  "metadata": {
    "colab": {
      "name": "Assignment06.ipynb",
      "provenance": [],
      "toc_visible": true,
      "include_colab_link": true
    },
    "kernelspec": {
      "name": "python3",
      "display_name": "Python 3"
    },
    "language_info": {
      "name": "python"
    }
  },
  "cells": [
    {
      "cell_type": "markdown",
      "metadata": {
        "id": "view-in-github",
        "colab_type": "text"
      },
      "source": [
        "<a href=\"https://colab.research.google.com/github/andrheadennizecuyme/LinearAlgebra_2ndSem/blob/main/Assignment06.ipynb\" target=\"_parent\"><img src=\"https://colab.research.google.com/assets/colab-badge.svg\" alt=\"Open In Colab\"/></a>"
      ]
    },
    {
      "cell_type": "markdown",
      "source": [
        "#Linear Algebra for ChE\n",
        "#Laboratory 5: Matrix Operations"
      ],
      "metadata": {
        "id": "_cZFwwF88gOa"
      }
    },
    {
      "cell_type": "markdown",
      "source": [
        "#Objectives\n",
        "At the end of this activity you will be able to:\n",
        "1. Be familiar with the fundamental matrix operations.\n",
        "2. Apply the operations to solve intermediate equations.\n",
        "3. Apply matrix algebra in engineering solutions."
      ],
      "metadata": {
        "id": "MFokOZ4D8lPs"
      }
    },
    {
      "cell_type": "markdown",
      "source": [
        "#Discussions\n"
      ],
      "metadata": {
        "id": "1N0isy508nOj"
      }
    },
    {
      "cell_type": "code",
      "source": [
        "import numpy as np\n",
        "import matplotlib.pyplot as plt\n",
        "%matplotlib inline\n"
      ],
      "metadata": {
        "id": "6PtzxcRL8q71"
      },
      "execution_count": null,
      "outputs": []
    },
    {
      "cell_type": "markdown",
      "source": [
        "#Transposition\n",
        "One of the fundamental operations in matrix algebra is Transposition. The transpose of a matrix is done by flipping the values of its elements over its diagonals. With this, the rows and columns from the original matrix will be switched. So for a matrix $A$ its transpose is denoted as $A^T$. So for example:"
      ],
      "metadata": {
        "id": "fDglWlW68tjh"
      }
    },
    {
      "cell_type": "markdown",
      "source": [
        "$$A = \\begin{bmatrix} 1 & 2 & 5\\\\5 & -1 &0 \\\\ 0 & -3 & 3\\end{bmatrix} $$"
      ],
      "metadata": {
        "id": "N2Ua24TF9i2t"
      }
    },
    {
      "cell_type": "markdown",
      "source": [
        "$$ A^T = \\begin{bmatrix} 1 & 5 & 0\\\\2 & -1 &-3 \\\\ 5 & 0 & 3\\end{bmatrix}$$"
      ],
      "metadata": {
        "id": "IoQQbMtX_70q"
      }
    },
    {
      "cell_type": "markdown",
      "source": [
        "This can now be achieved programmatically by using `np.transpose()` or using the `T` method."
      ],
      "metadata": {
        "id": "hM1ppnahKSdl"
      }
    },
    {
      "cell_type": "code",
      "source": [
        "A = np.array([\n",
        "    [341, 9, 32],\n",
        "    [8, -1, 00],\n",
        "    [45, -90, 9]\n",
        "])\n",
        "A"
      ],
      "metadata": {
        "colab": {
          "base_uri": "https://localhost:8080/"
        },
        "id": "bcCGDXjh904_",
        "outputId": "6b63724f-6759-46a3-f121-c9f4b8ba5ea9"
      },
      "execution_count": null,
      "outputs": [
        {
          "output_type": "execute_result",
          "data": {
            "text/plain": [
              "array([[341,   9,  32],\n",
              "       [  8,  -1,   0],\n",
              "       [ 45, -90,   9]])"
            ]
          },
          "metadata": {},
          "execution_count": 2
        }
      ]
    },
    {
      "cell_type": "code",
      "source": [
        "AT1 = np.transpose(A)\n",
        "AT1"
      ],
      "metadata": {
        "colab": {
          "base_uri": "https://localhost:8080/"
        },
        "id": "lAyKkFaX_WOr",
        "outputId": "765eb386-1c2c-4bea-d554-590c7ff77e62"
      },
      "execution_count": null,
      "outputs": [
        {
          "output_type": "execute_result",
          "data": {
            "text/plain": [
              "array([[341,   8,  45],\n",
              "       [  9,  -1, -90],\n",
              "       [ 32,   0,   9]])"
            ]
          },
          "metadata": {},
          "execution_count": 3
        }
      ]
    },
    {
      "cell_type": "code",
      "source": [
        "AT2 = A.T\n",
        "AT2"
      ],
      "metadata": {
        "colab": {
          "base_uri": "https://localhost:8080/"
        },
        "id": "4fz-QvMP_XPS",
        "outputId": "bc9b8486-6057-47c0-861f-ac0fe2abce15"
      },
      "execution_count": null,
      "outputs": [
        {
          "output_type": "execute_result",
          "data": {
            "text/plain": [
              "array([[341,   8,  45],\n",
              "       [  9,  -1, -90],\n",
              "       [ 32,   0,   9]])"
            ]
          },
          "metadata": {},
          "execution_count": 4
        }
      ]
    },
    {
      "cell_type": "code",
      "source": [
        "B = np.array([\n",
        "    [9,8,7,6],\n",
        "    [99,88,77,66],\n",
        "])\n",
        "B.shape"
      ],
      "metadata": {
        "colab": {
          "base_uri": "https://localhost:8080/"
        },
        "id": "CWX8fKtw_VLU",
        "outputId": "b6df735c-f08d-4038-b5c5-ccd527834415"
      },
      "execution_count": null,
      "outputs": [
        {
          "output_type": "execute_result",
          "data": {
            "text/plain": [
              "(2, 4)"
            ]
          },
          "metadata": {},
          "execution_count": 5
        }
      ]
    },
    {
      "cell_type": "code",
      "source": [
        "np.transpose(B).shape"
      ],
      "metadata": {
        "colab": {
          "base_uri": "https://localhost:8080/"
        },
        "id": "StOkpJTT_cR6",
        "outputId": "f53628ab-6dd9-4748-fd70-63e18782aacc"
      },
      "execution_count": null,
      "outputs": [
        {
          "output_type": "execute_result",
          "data": {
            "text/plain": [
              "(4, 2)"
            ]
          },
          "metadata": {},
          "execution_count": 6
        }
      ]
    },
    {
      "cell_type": "code",
      "source": [
        "B.T.shape"
      ],
      "metadata": {
        "colab": {
          "base_uri": "https://localhost:8080/"
        },
        "id": "I6fMiuGY_sMe",
        "outputId": "e335626f-67c6-476e-cb08-f58ffa6953d7"
      },
      "execution_count": null,
      "outputs": [
        {
          "output_type": "execute_result",
          "data": {
            "text/plain": [
              "(4, 2)"
            ]
          },
          "metadata": {},
          "execution_count": 7
        }
      ]
    },
    {
      "cell_type": "code",
      "source": [
        "BT = B.T\n",
        "BT"
      ],
      "metadata": {
        "colab": {
          "base_uri": "https://localhost:8080/"
        },
        "id": "VibiKq8WANvO",
        "outputId": "d597c4f6-e10b-4441-c185-0afc5e0e0e36"
      },
      "execution_count": null,
      "outputs": [
        {
          "output_type": "execute_result",
          "data": {
            "text/plain": [
              "array([[ 9, 99],\n",
              "       [ 8, 88],\n",
              "       [ 7, 77],\n",
              "       [ 6, 66]])"
            ]
          },
          "metadata": {},
          "execution_count": 8
        }
      ]
    },
    {
      "cell_type": "markdown",
      "source": [
        "#Dot Product/Inner Product"
      ],
      "metadata": {
        "id": "Jnjp_z_WAR7c"
      }
    },
    {
      "cell_type": "markdown",
      "source": [
        "The dot product from laboratory activity before, we will try to implement the same operation with matrices. In matrix dot product we are going to get the sum of products of the vectors by row-column pairs. So if we have two matrices $X$ and $Y$:\n",
        "\n",
        "$$X = \\begin{bmatrix}x_{(0,0)}&x_{(0,1)}\\\\ x_{(1,0)}&x_{(1,1)}\\end{bmatrix}, Y = \\begin{bmatrix}y_{(0,0)}&y_{(0,1)}\\\\ y_{(1,0)}&y_{(1,1)}\\end{bmatrix}$$\n",
        "\n",
        "The dot product will then be computed as:\n",
        "$$X \\cdot Y= \\begin{bmatrix} x_{(0,0)}*y_{(0,0)} + x_{(0,1)}*y_{(1,0)} & x_{(0,0)}*y_{(0,1)} + x_{(0,1)}*y_{(1,1)} \\\\  x_{(1,0)}*y_{(0,0)} + x_{(1,1)}*y_{(1,0)} & x_{(1,0)}*y_{(0,1)} + x_{(1,1)}*y_{(1,1)}\n",
        "\\end{bmatrix}$$\n",
        "\n",
        "We assign values to $X$ and $Y$:\n",
        "$$X = \\begin{bmatrix}1&2\\\\ 0&1\\end{bmatrix}, Y = \\begin{bmatrix}-1&0\\\\ 2&2\\end{bmatrix}$$"
      ],
      "metadata": {
        "id": "wS42sEUjAfgC"
      }
    },
    {
      "cell_type": "markdown",
      "source": [
        "$$X \\cdot Y= \\begin{bmatrix} 1*-1 + 2*2 & 1*0 + 2*2 \\\\  0*-1 + 1*2 & 0*0 + 1*2 \\end{bmatrix} = \\begin{bmatrix} 3 & 4 \\\\2 & 2 \\end{bmatrix}$$\n",
        "This could be achieved programmatically using `np.dot()`, `np.matmul()` or the `@` operator."
      ],
      "metadata": {
        "id": "0dJ-dK7oAkzj"
      }
    },
    {
      "cell_type": "code",
      "source": [
        "X = np.array([\n",
        "    [6,3],\n",
        "    [0,6]\n",
        "])\n",
        "Y = np.array([\n",
        "    [-5,0],\n",
        "    [9,9]\n",
        "])"
      ],
      "metadata": {
        "id": "mekCh46bBFCr"
      },
      "execution_count": null,
      "outputs": []
    },
    {
      "cell_type": "code",
      "source": [
        "np.array_equiv(X, Y)"
      ],
      "metadata": {
        "colab": {
          "base_uri": "https://localhost:8080/"
        },
        "id": "m6AA5itVBF9C",
        "outputId": "77cdbcea-1eee-4569-aa4c-9ba36fe0cfcc"
      },
      "execution_count": null,
      "outputs": [
        {
          "output_type": "execute_result",
          "data": {
            "text/plain": [
              "False"
            ]
          },
          "metadata": {},
          "execution_count": 10
        }
      ]
    },
    {
      "cell_type": "code",
      "source": [
        "np.dot(X,Y)"
      ],
      "metadata": {
        "colab": {
          "base_uri": "https://localhost:8080/"
        },
        "id": "gWaEQNFHBHnG",
        "outputId": "86e24696-63a5-43e8-b181-2da06c807fe7"
      },
      "execution_count": null,
      "outputs": [
        {
          "output_type": "execute_result",
          "data": {
            "text/plain": [
              "array([[-3, 27],\n",
              "       [54, 54]])"
            ]
          },
          "metadata": {},
          "execution_count": 11
        }
      ]
    },
    {
      "cell_type": "code",
      "source": [
        "X.dot(Y)"
      ],
      "metadata": {
        "colab": {
          "base_uri": "https://localhost:8080/"
        },
        "id": "I5rD3AbqBMBk",
        "outputId": "584b8e01-ebc2-4fcc-da46-6bf62a4a4813"
      },
      "execution_count": null,
      "outputs": [
        {
          "output_type": "execute_result",
          "data": {
            "text/plain": [
              "array([[-3, 27],\n",
              "       [54, 54]])"
            ]
          },
          "metadata": {},
          "execution_count": 12
        }
      ]
    },
    {
      "cell_type": "code",
      "source": [
        "X @ Y"
      ],
      "metadata": {
        "colab": {
          "base_uri": "https://localhost:8080/"
        },
        "id": "h8KaKkXqBQUj",
        "outputId": "4404f702-98ee-40c3-b8a3-c9399dfcfac8"
      },
      "execution_count": null,
      "outputs": [
        {
          "output_type": "execute_result",
          "data": {
            "text/plain": [
              "array([[-3, 27],\n",
              "       [54, 54]])"
            ]
          },
          "metadata": {},
          "execution_count": 13
        }
      ]
    },
    {
      "cell_type": "code",
      "source": [
        "np.matmul(X,Y)"
      ],
      "metadata": {
        "colab": {
          "base_uri": "https://localhost:8080/"
        },
        "id": "33fCMaoNBSMS",
        "outputId": "820a7042-f966-494c-fd00-4fcdca42585f"
      },
      "execution_count": null,
      "outputs": [
        {
          "output_type": "execute_result",
          "data": {
            "text/plain": [
              "array([[-3, 27],\n",
              "       [54, 54]])"
            ]
          },
          "metadata": {},
          "execution_count": 14
        }
      ]
    },
    {
      "cell_type": "code",
      "source": [
        "M = np.array([\n",
        "    [1,7,4],\n",
        "    [8,7,3],\n",
        "    [2,7,0]\n",
        "])\n",
        "N = np.array([\n",
        "    [-9,1,2],\n",
        "    [5,3,5],\n",
        "    [8,7,6]\n",
        "])"
      ],
      "metadata": {
        "id": "xk6JdLBkBSQm"
      },
      "execution_count": null,
      "outputs": []
    },
    {
      "cell_type": "code",
      "source": [
        "M @ N"
      ],
      "metadata": {
        "colab": {
          "base_uri": "https://localhost:8080/"
        },
        "id": "g86Mv1ezBa0H",
        "outputId": "a6172811-59b0-4a1e-9dba-b21084fc82c3"
      },
      "execution_count": null,
      "outputs": [
        {
          "output_type": "execute_result",
          "data": {
            "text/plain": [
              "array([[ 58,  50,  61],\n",
              "       [-13,  50,  69],\n",
              "       [ 17,  23,  39]])"
            ]
          },
          "metadata": {},
          "execution_count": 21
        }
      ]
    },
    {
      "cell_type": "code",
      "source": [
        "M.dot(N)"
      ],
      "metadata": {
        "colab": {
          "base_uri": "https://localhost:8080/"
        },
        "id": "tO8Atr7bBc2c",
        "outputId": "6ca796d8-7d7b-46a2-c8f2-a41a078dc92d"
      },
      "execution_count": null,
      "outputs": [
        {
          "output_type": "execute_result",
          "data": {
            "text/plain": [
              "array([[ 58,  50,  61],\n",
              "       [-13,  50,  69],\n",
              "       [ 17,  23,  39]])"
            ]
          },
          "metadata": {},
          "execution_count": 22
        }
      ]
    },
    {
      "cell_type": "code",
      "source": [
        "np.matmul(M, N)"
      ],
      "metadata": {
        "colab": {
          "base_uri": "https://localhost:8080/"
        },
        "id": "m2yY1qAmBeQ6",
        "outputId": "9d004cbd-bf6b-49ac-8a9f-16aa4508a98f"
      },
      "execution_count": null,
      "outputs": [
        {
          "output_type": "execute_result",
          "data": {
            "text/plain": [
              "array([[ 58,  50,  61],\n",
              "       [-13,  50,  69],\n",
              "       [ 17,  23,  39]])"
            ]
          },
          "metadata": {},
          "execution_count": 23
        }
      ]
    },
    {
      "cell_type": "code",
      "source": [
        "np.dot(M, N)"
      ],
      "metadata": {
        "colab": {
          "base_uri": "https://localhost:8080/"
        },
        "id": "rEK4YApZBgEv",
        "outputId": "77ab999d-9cc1-417d-8d8b-94626fb12c00"
      },
      "execution_count": null,
      "outputs": [
        {
          "output_type": "execute_result",
          "data": {
            "text/plain": [
              "array([[ 58,  50,  61],\n",
              "       [-13,  50,  69],\n",
              "       [ 17,  23,  39]])"
            ]
          },
          "metadata": {},
          "execution_count": 24
        }
      ]
    },
    {
      "cell_type": "markdown",
      "source": [
        "In matrix dot products there are additional rules compared with vector dot products. Since vector dot products were just in one dimension there are less restrictions. Since now we are dealing with Rank 2 vectors we need to consider some rules:\n",
        "\n",
        "### Rule 1: The inner dimensions of the two matrices in question must be the same. \n",
        "\n",
        "Given a matrix $A$ with a shape of $(a,b)$ where $a$ and $b$ are any integers. If we want to do a dot product between $A$ and another matrix $B$, then matrix $B$ should have a shape of $(b,c)$ where $b$ and $c$ are any integers. So for given the following matrices:\n",
        "\n",
        "$$A = \\begin{bmatrix}2&4\\\\5&-2\\\\6&-8\\\\0&1\\end{bmatrix}, B = \\begin{bmatrix}1&1\\\\3&3\\\\9&-9\\\\-1&-2\\end{bmatrix}, C = \\begin{bmatrix}0&1&1\\\\8&8&8\\\\1&1&2\\end{bmatrix}$$\n",
        "\n",
        "In this case $A$ has a shape of $(4,2)$, $B$ has a shape of $(4,2)$ and $C$ has a shape of $(3,3)$. So the only matrix pairs that is eligible to perform dot product is matrices $A \\cdot C$, or $B \\cdot C$.  "
      ],
      "metadata": {
        "id": "dp0j5kwbB5wE"
      }
    },
    {
      "cell_type": "code",
      "source": [
        "X = np.array([\n",
        "    [6, 99],\n",
        "    [7, -7],\n",
        "    [5, 8]\n",
        "])\n",
        "Y = np.array([\n",
        "    [2,2],\n",
        "    [4,4],\n",
        "    [-88,-83]\n",
        "])\n",
        "Z = np.array([\n",
        "    [0,7,7],\n",
        "    [4,4,2]\n",
        "])\n",
        "print(X.shape)\n",
        "print(Y.shape)\n",
        "print(Z.shape)"
      ],
      "metadata": {
        "colab": {
          "base_uri": "https://localhost:8080/"
        },
        "id": "gTKkhxkLB8X6",
        "outputId": "e65612fb-d857-46c2-dd22-7ba2b4a0c2b2"
      },
      "execution_count": null,
      "outputs": [
        {
          "output_type": "stream",
          "name": "stdout",
          "text": [
            "(3, 2)\n",
            "(3, 2)\n",
            "(2, 3)\n"
          ]
        }
      ]
    },
    {
      "cell_type": "code",
      "source": [
        "X @ Z"
      ],
      "metadata": {
        "colab": {
          "base_uri": "https://localhost:8080/"
        },
        "id": "sP4ik0PRCdDE",
        "outputId": "a3a0f985-7752-4711-df00-9fe488c1c7e6"
      },
      "execution_count": null,
      "outputs": [
        {
          "output_type": "execute_result",
          "data": {
            "text/plain": [
              "array([[396, 438, 240],\n",
              "       [-28,  21,  35],\n",
              "       [ 32,  67,  51]])"
            ]
          },
          "metadata": {},
          "execution_count": 29
        }
      ]
    },
    {
      "cell_type": "code",
      "source": [
        "Y @ Z"
      ],
      "metadata": {
        "colab": {
          "base_uri": "https://localhost:8080/"
        },
        "id": "SmgElzEdCglB",
        "outputId": "ef057d27-b264-4ca8-eee0-3f138752c179"
      },
      "execution_count": null,
      "outputs": [
        {
          "output_type": "execute_result",
          "data": {
            "text/plain": [
              "array([[   8,   22,   18],\n",
              "       [  16,   44,   36],\n",
              "       [-332, -948, -782]])"
            ]
          },
          "metadata": {},
          "execution_count": 30
        }
      ]
    },
    {
      "cell_type": "markdown",
      "source": [
        "The shape of the dot product changed and its shape is not the same as any of the matrices we used. The shape of a dot product is actually derived from the shapes of the matrices used. So recall matrix $A$ with a shape of $(a,b)$ and matrix $B$ with a shape of $(b,c)$, $A \\cdot B$ should have a shape $(a,c)$."
      ],
      "metadata": {
        "id": "quSbswSQCrIf"
      }
    },
    {
      "cell_type": "code",
      "source": [
        "X @ Y.T"
      ],
      "metadata": {
        "colab": {
          "base_uri": "https://localhost:8080/"
        },
        "id": "rACiFy8RCsYG",
        "outputId": "5d397f81-f2cd-4587-efde-c67e690ad92b"
      },
      "execution_count": null,
      "outputs": [
        {
          "output_type": "execute_result",
          "data": {
            "text/plain": [
              "array([[  210,   420, -8745],\n",
              "       [    0,     0,   -35],\n",
              "       [   26,    52, -1104]])"
            ]
          },
          "metadata": {},
          "execution_count": 31
        }
      ]
    },
    {
      "cell_type": "code",
      "source": [
        "O = np.array([\n",
        "    [8,55,4,0]\n",
        "])\n",
        "P = np.array([\n",
        "    [1,1,1,-1]\n",
        "])\n",
        "print(O.shape)\n",
        "print(P.shape)"
      ],
      "metadata": {
        "colab": {
          "base_uri": "https://localhost:8080/"
        },
        "id": "n1NPDS1QCzzw",
        "outputId": "1f588db6-e38a-4a6a-e2f8-5119a6a62289"
      },
      "execution_count": null,
      "outputs": [
        {
          "output_type": "stream",
          "name": "stdout",
          "text": [
            "(1, 4)\n",
            "(1, 4)\n"
          ]
        }
      ]
    },
    {
      "cell_type": "code",
      "source": [
        "P.T @ O"
      ],
      "metadata": {
        "colab": {
          "base_uri": "https://localhost:8080/"
        },
        "id": "E-ltSwt8D8aB",
        "outputId": "5633a0e0-d425-4749-c0e4-954bc4fb4f5d"
      },
      "execution_count": null,
      "outputs": [
        {
          "output_type": "execute_result",
          "data": {
            "text/plain": [
              "array([[  8,  55,   4,   0],\n",
              "       [  8,  55,   4,   0],\n",
              "       [  8,  55,   4,   0],\n",
              "       [ -8, -55,  -4,   0]])"
            ]
          },
          "metadata": {},
          "execution_count": 35
        }
      ]
    },
    {
      "cell_type": "code",
      "source": [
        "O @ P.T"
      ],
      "metadata": {
        "id": "vc7KXEHZD9DU"
      },
      "execution_count": null,
      "outputs": []
    },
    {
      "cell_type": "markdown",
      "source": [
        "And you can see that when you try to multiply A and B, it returns `ValueError` pertaining to matrix shape mismatch."
      ],
      "metadata": {
        "id": "k5V-ynMQEOVX"
      }
    },
    {
      "cell_type": "markdown",
      "source": [
        "### Rule 2: Dot Product has special properties\n",
        "\n",
        "Dot products are prevalent in matrix algebra, this implies that it has several unique properties and it should be considered when formulation solutions:\n",
        " 1. $A \\cdot B \\neq B \\cdot A$\n",
        " 2. $A \\cdot (B \\cdot C) = (A \\cdot B) \\cdot C$\n",
        " 3. $A\\cdot(B+C) = A\\cdot B + A\\cdot C$\n",
        " 4. $(B+C)\\cdot A = B\\cdot A + C\\cdot A$\n",
        " 5. $A\\cdot I = A$\n",
        " 6. $A\\cdot \\emptyset = \\emptyset$ "
      ],
      "metadata": {
        "id": "1jXEFJuDERnE"
      }
    },
    {
      "cell_type": "code",
      "source": [
        "A = np.array([\n",
        "    [8,7,6],\n",
        "    [6,7,8],\n",
        "    [7,7,7]\n",
        "])\n",
        "B = np.array([\n",
        "    [4,4,4],\n",
        "    [2,4,8],\n",
        "    [2,4,8]\n",
        "])\n",
        "C = np.array([\n",
        "    [55,55,0],\n",
        "    [0,55,55],\n",
        "    [55,0,55]\n",
        "])"
      ],
      "metadata": {
        "id": "Ap5SHSyQEWC3"
      },
      "execution_count": null,
      "outputs": []
    },
    {
      "cell_type": "code",
      "source": [
        "np.eye(3)"
      ],
      "metadata": {
        "colab": {
          "base_uri": "https://localhost:8080/"
        },
        "id": "NZGdveagEWs2",
        "outputId": "8376239b-58af-4699-c2de-3f3406536e58"
      },
      "execution_count": null,
      "outputs": [
        {
          "output_type": "execute_result",
          "data": {
            "text/plain": [
              "array([[1., 0., 0.],\n",
              "       [0., 1., 0.],\n",
              "       [0., 0., 1.]])"
            ]
          },
          "metadata": {},
          "execution_count": 38
        }
      ]
    },
    {
      "cell_type": "code",
      "source": [
        "A.dot(np.eye(3))"
      ],
      "metadata": {
        "colab": {
          "base_uri": "https://localhost:8080/"
        },
        "id": "BnHEvIl-EYS8",
        "outputId": "8bbbe423-0a58-448c-bf2e-1d08004f6443"
      },
      "execution_count": null,
      "outputs": [
        {
          "output_type": "execute_result",
          "data": {
            "text/plain": [
              "array([[8., 7., 6.],\n",
              "       [6., 7., 8.],\n",
              "       [7., 7., 7.]])"
            ]
          },
          "metadata": {},
          "execution_count": 39
        }
      ]
    },
    {
      "cell_type": "code",
      "source": [
        "np.array_equal(A@B, B@A)"
      ],
      "metadata": {
        "colab": {
          "base_uri": "https://localhost:8080/"
        },
        "id": "qMobu4RXEZs2",
        "outputId": "162ca43f-0dfc-4dbb-9ca2-7a7a668f9931"
      },
      "execution_count": null,
      "outputs": [
        {
          "output_type": "execute_result",
          "data": {
            "text/plain": [
              "False"
            ]
          },
          "metadata": {},
          "execution_count": 40
        }
      ]
    },
    {
      "cell_type": "code",
      "source": [
        "E = A @ (B @ C)\n",
        "E"
      ],
      "metadata": {
        "colab": {
          "base_uri": "https://localhost:8080/"
        },
        "id": "eKxIo9vWEch1",
        "outputId": "4605a4a2-6f5b-47bb-9aad-2b002b77a8a8"
      },
      "execution_count": null,
      "outputs": [
        {
          "output_type": "execute_result",
          "data": {
            "text/plain": [
              "array([[10670,  7810, 12100],\n",
              "       [10890,  7590, 12540],\n",
              "       [10780,  7700, 12320]])"
            ]
          },
          "metadata": {},
          "execution_count": 41
        }
      ]
    },
    {
      "cell_type": "code",
      "source": [
        "F = (A @ B) @ C\n",
        "F"
      ],
      "metadata": {
        "colab": {
          "base_uri": "https://localhost:8080/"
        },
        "id": "FFAMmv8TEdKv",
        "outputId": "897abf05-73db-4883-cd1a-e4e331dcc153"
      },
      "execution_count": null,
      "outputs": [
        {
          "output_type": "execute_result",
          "data": {
            "text/plain": [
              "array([[10670,  7810, 12100],\n",
              "       [10890,  7590, 12540],\n",
              "       [10780,  7700, 12320]])"
            ]
          },
          "metadata": {},
          "execution_count": 42
        }
      ]
    },
    {
      "cell_type": "code",
      "source": [
        "np.array_equal(E, X)"
      ],
      "metadata": {
        "colab": {
          "base_uri": "https://localhost:8080/"
        },
        "id": "9uCcabG-EefA",
        "outputId": "28f46f13-2658-4686-f248-23151f1e515b"
      },
      "execution_count": null,
      "outputs": [
        {
          "output_type": "execute_result",
          "data": {
            "text/plain": [
              "False"
            ]
          },
          "metadata": {},
          "execution_count": 43
        }
      ]
    },
    {
      "cell_type": "code",
      "source": [
        "np.array_equiv(E, F)"
      ],
      "metadata": {
        "id": "0-bdSxdnEf_M",
        "colab": {
          "base_uri": "https://localhost:8080/"
        },
        "outputId": "6def3532-653a-4f96-e2b8-2ca2b6e81aa6"
      },
      "execution_count": null,
      "outputs": [
        {
          "output_type": "execute_result",
          "data": {
            "text/plain": [
              "True"
            ]
          },
          "metadata": {},
          "execution_count": 44
        }
      ]
    },
    {
      "cell_type": "code",
      "source": [
        "np.eye(9)"
      ],
      "metadata": {
        "colab": {
          "base_uri": "https://localhost:8080/"
        },
        "id": "kiXjwjwXFpW3",
        "outputId": "2a895082-28e1-4723-b16b-acc780d185a3"
      },
      "execution_count": null,
      "outputs": [
        {
          "output_type": "execute_result",
          "data": {
            "text/plain": [
              "array([[1., 0., 0., 0., 0., 0., 0., 0., 0.],\n",
              "       [0., 1., 0., 0., 0., 0., 0., 0., 0.],\n",
              "       [0., 0., 1., 0., 0., 0., 0., 0., 0.],\n",
              "       [0., 0., 0., 1., 0., 0., 0., 0., 0.],\n",
              "       [0., 0., 0., 0., 1., 0., 0., 0., 0.],\n",
              "       [0., 0., 0., 0., 0., 1., 0., 0., 0.],\n",
              "       [0., 0., 0., 0., 0., 0., 1., 0., 0.],\n",
              "       [0., 0., 0., 0., 0., 0., 0., 1., 0.],\n",
              "       [0., 0., 0., 0., 0., 0., 0., 0., 1.]])"
            ]
          },
          "metadata": {},
          "execution_count": 45
        }
      ]
    },
    {
      "cell_type": "code",
      "source": [
        "A @ E"
      ],
      "metadata": {
        "colab": {
          "base_uri": "https://localhost:8080/"
        },
        "id": "CpNfU79PFysy",
        "outputId": "bc70262d-5054-4205-810d-13001fd41955"
      },
      "execution_count": null,
      "outputs": [
        {
          "output_type": "execute_result",
          "data": {
            "text/plain": [
              "array([[226270, 161810, 258500],\n",
              "       [226490, 161590, 258940],\n",
              "       [226380, 161700, 258720]])"
            ]
          },
          "metadata": {},
          "execution_count": 46
        }
      ]
    },
    {
      "cell_type": "code",
      "source": [
        "z_mat = np.zeros(A.shape)\n",
        "z_mat"
      ],
      "metadata": {
        "colab": {
          "base_uri": "https://localhost:8080/"
        },
        "id": "KjGVOG7GF0Ia",
        "outputId": "f30747f8-de57-4d4f-b7c0-0e1e7901911d"
      },
      "execution_count": null,
      "outputs": [
        {
          "output_type": "execute_result",
          "data": {
            "text/plain": [
              "array([[0., 0., 0.],\n",
              "       [0., 0., 0.],\n",
              "       [0., 0., 0.]])"
            ]
          },
          "metadata": {},
          "execution_count": 47
        }
      ]
    },
    {
      "cell_type": "code",
      "source": [
        "a_dot_z = A.dot(np.zeros(A.shape))\n",
        "a_dot_z"
      ],
      "metadata": {
        "colab": {
          "base_uri": "https://localhost:8080/"
        },
        "id": "o1Q0naSEF0lc",
        "outputId": "8bf0d505-1d2e-4a1c-f87e-957bb84a6ec0"
      },
      "execution_count": null,
      "outputs": [
        {
          "output_type": "execute_result",
          "data": {
            "text/plain": [
              "array([[0., 0., 0.],\n",
              "       [0., 0., 0.],\n",
              "       [0., 0., 0.]])"
            ]
          },
          "metadata": {},
          "execution_count": 48
        }
      ]
    },
    {
      "cell_type": "code",
      "source": [
        "np.array_equal(a_dot_z,z_mat)"
      ],
      "metadata": {
        "colab": {
          "base_uri": "https://localhost:8080/"
        },
        "id": "IGrrhYfhF27g",
        "outputId": "3658e87d-5b0a-494f-ef51-e18ab8591232"
      },
      "execution_count": null,
      "outputs": [
        {
          "output_type": "execute_result",
          "data": {
            "text/plain": [
              "True"
            ]
          },
          "metadata": {},
          "execution_count": 49
        }
      ]
    },
    {
      "cell_type": "code",
      "source": [
        "null_mat = np.empty(A.shape, dtype=float)\n",
        "null = np.array(null_mat,dtype=float)\n",
        "print(null)\n",
        "np.allclose(a_dot_z,null)"
      ],
      "metadata": {
        "colab": {
          "base_uri": "https://localhost:8080/"
        },
        "id": "1WnvcHJhF3XA",
        "outputId": "c0532284-0c68-469b-b6eb-ac0026ae95c6"
      },
      "execution_count": null,
      "outputs": [
        {
          "output_type": "stream",
          "name": "stdout",
          "text": [
            "[[0. 0. 0.]\n",
            " [0. 0. 0.]\n",
            " [0. 0. 0.]]\n"
          ]
        },
        {
          "output_type": "execute_result",
          "data": {
            "text/plain": [
              "True"
            ]
          },
          "metadata": {},
          "execution_count": 50
        }
      ]
    },
    {
      "cell_type": "markdown",
      "source": [
        "#Determinant"
      ],
      "metadata": {
        "id": "_G1k__KGF5NH"
      }
    },
    {
      "cell_type": "markdown",
      "source": [
        "A determinant is a scalar value derived from a square matrix. The determinant is a fundamental and important value used in matrix algebra. Although it will not be evident in this laboratory on how it can be used practically, but it will be reatly used in future lessons.\n",
        "\n",
        "The determinant of some matrix $A$ is denoted as $det(A)$ or $|A|$. So let's say $A$ is represented as:\n",
        "$$A = \\begin{bmatrix}a_{(0,0)}&a_{(0,1)}\\\\a_{(1,0)}&a_{(1,1)}\\end{bmatrix}$$\n",
        "We can compute for the determinant as:\n",
        "$$|A| = a_{(0,0)}*a_{(1,1)} - a_{(1,0)}*a_{(0,1)}$$\n",
        "Thus we have $A$ as:\n",
        "$$A = \\begin{bmatrix}1&4\\\\0&3\\end{bmatrix}, |A| = 3$$\n",
        "\n",
        "But you might wonder how about square matrices beyond the shape $(2,2)$? We can approach this problem by using several methods such as co-factor expansion and the minors method. This can be taught in the lecture of the laboratory but we can achieve the strenuous computation of high-dimensional matrices programmatically using Python. We can achieve this by using `np.linalg.det()`."
      ],
      "metadata": {
        "id": "eXVH1wv-F8YN"
      }
    },
    {
      "cell_type": "code",
      "source": [
        "A = np.array([\n",
        "    [8,45],\n",
        "    [0.0,99]\n",
        "])\n",
        "np.linalg.det(A)"
      ],
      "metadata": {
        "colab": {
          "base_uri": "https://localhost:8080/"
        },
        "id": "40UvHO3zGAdj",
        "outputId": "2990f93b-b0d1-4155-f78c-9ff378f21227"
      },
      "execution_count": null,
      "outputs": [
        {
          "output_type": "execute_result",
          "data": {
            "text/plain": [
              "791.9999999999994"
            ]
          },
          "metadata": {},
          "execution_count": 51
        }
      ]
    },
    {
      "cell_type": "code",
      "source": [
        "B = np.array([\n",
        "              [7, -999, 1],\n",
        "              [77, -99 ,-1],\n",
        "              [777, -9, 1]\n",
        "])\n",
        "np.linalg.det(B)"
      ],
      "metadata": {
        "colab": {
          "base_uri": "https://localhost:8080/"
        },
        "id": "c7NUVDTQGDia",
        "outputId": "2de58bc2-d75a-4ef9-a761-617216ce9d39"
      },
      "execution_count": null,
      "outputs": [
        {
          "output_type": "execute_result",
          "data": {
            "text/plain": [
              "928619.9999999992"
            ]
          },
          "metadata": {},
          "execution_count": 52
        }
      ]
    },
    {
      "cell_type": "code",
      "source": [
        "## Now other mathematics classes would require you to solve this by hand, \n",
        "## and that is great for practicing your memorization and coordination skills \n",
        "## but in this class we aim for simplicity and speed so we'll use programming\n",
        "## but it's completely fine if you want to try to solve this one by hand.\n",
        "B = np.array([\n",
        "    [9,-63,5,6],\n",
        "    [0,3,71,34],\n",
        "    [93,81,8,2],\n",
        "    [95,2,6,48]\n",
        "])\n",
        "np.linalg.det(B)"
      ],
      "metadata": {
        "colab": {
          "base_uri": "https://localhost:8080/"
        },
        "id": "S9G-T6KaGFSu",
        "outputId": "ed04a6d4-4b3e-464c-defe-384871ed41d1"
      },
      "execution_count": null,
      "outputs": [
        {
          "output_type": "execute_result",
          "data": {
            "text/plain": [
              "-20023739.999999978"
            ]
          },
          "metadata": {},
          "execution_count": 53
        }
      ]
    },
    {
      "cell_type": "markdown",
      "source": [
        "#Inverse"
      ],
      "metadata": {
        "id": "MYIkzHVjGLR6"
      }
    },
    {
      "cell_type": "markdown",
      "source": [
        "The inverse of a matrix is another fundamental operation in matrix algebra. Determining the inverse of a matrix let us determine if its solvability and its characteristic as a system of linear equation — we'll expand on this in the nect module. Another use of the inverse matrix is solving the problem of divisibility between matrices. Although element-wise division exists but dividing the entire concept of matrices does not exists. Inverse matrices provides a related operation that could have the same concept of \"dividing\" matrices.\n",
        "\n",
        "Now to determine the inverse of a matrix we need to perform several steps. So let's say we have a matrix $M$:\n",
        "$$M = \\begin{bmatrix}1&7\\\\-3&5\\end{bmatrix}$$\n",
        "First, we need to get the determinant of $M$.\n",
        "$$|M| = (1)(5)-(-3)(7) = 26$$\n",
        "Next, we need to reform the matrix into the inverse form:\n",
        "$$M^{-1} = \\frac{1}{|M|} \\begin{bmatrix} m_{(1,1)} & -m_{(0,1)} \\\\ -m_{(1,0)} & m_{(0,0)}\\end{bmatrix}$$\n",
        "That will be:\n",
        "$$M^{-1} = \\frac{1}{26} \\begin{bmatrix} 5 & -7 \\\\ 3 & 1\\end{bmatrix} = \\begin{bmatrix} \\frac{5}{26} & \\frac{-7}{26} \\\\ \\frac{3}{26} & \\frac{1}{26}\\end{bmatrix}$$\n",
        "For higher-dimension matrices you might need to use co-factors, minors, adjugates, and other reduction techinques. To solve this programmatially we can use `np.linalg.inv()`."
      ],
      "metadata": {
        "id": "XW5uJCRaGOd_"
      }
    },
    {
      "cell_type": "code",
      "source": [
        "M = np.array([\n",
        "    [0,13],\n",
        "    [-99, 80]\n",
        "])\n",
        "\n",
        "np.array(M @ np.linalg.inv(M), dtype=int)"
      ],
      "metadata": {
        "colab": {
          "base_uri": "https://localhost:8080/"
        },
        "id": "BJYI4wotGWVd",
        "outputId": "42635c82-df91-4757-987c-ee3718fd930c"
      },
      "execution_count": null,
      "outputs": [
        {
          "output_type": "execute_result",
          "data": {
            "text/plain": [
              "array([[1, 0],\n",
              "       [0, 1]])"
            ]
          },
          "metadata": {},
          "execution_count": 81
        }
      ]
    },
    {
      "cell_type": "code",
      "source": [
        "P = np.array([\n",
        "              [9, 9, 0],\n",
        "              [4, 2, -6],\n",
        "              [8, 9, 7]\n",
        "])\n",
        "Q = np.linalg.inv(P)\n",
        "Q"
      ],
      "metadata": {
        "colab": {
          "base_uri": "https://localhost:8080/"
        },
        "id": "pRaXXk2OGW6W",
        "outputId": "9cf44d7a-a5f8-453c-ebc8-1e2dc0c1d03c"
      },
      "execution_count": null,
      "outputs": [
        {
          "output_type": "execute_result",
          "data": {
            "text/plain": [
              "array([[-0.94444444,  0.875     ,  0.75      ],\n",
              "       [ 1.05555556, -0.875     , -0.75      ],\n",
              "       [-0.27777778,  0.125     ,  0.25      ]])"
            ]
          },
          "metadata": {},
          "execution_count": 79
        }
      ]
    },
    {
      "cell_type": "code",
      "source": [
        "P @ Q"
      ],
      "metadata": {
        "colab": {
          "base_uri": "https://localhost:8080/"
        },
        "id": "htRK8quTGXBo",
        "outputId": "274ea5af-b213-40fb-e2c1-a2782c140c12"
      },
      "execution_count": null,
      "outputs": [
        {
          "output_type": "execute_result",
          "data": {
            "text/plain": [
              "array([[1.00000000e+00, 0.00000000e+00, 0.00000000e+00],\n",
              "       [2.22044605e-16, 1.00000000e+00, 0.00000000e+00],\n",
              "       [3.33066907e-16, 0.00000000e+00, 1.00000000e+00]])"
            ]
          },
          "metadata": {},
          "execution_count": 80
        }
      ]
    },
    {
      "cell_type": "code",
      "source": [
        "## And now let's test your skills in solving a matrix with high dimensions:\n",
        "N = np.array([\n",
        "    [18,5,23,1,0,33,5],\n",
        "    [0,45,0,11,2,4,2],\n",
        "    [5,9,20,0,0,0,3],\n",
        "    [1,6,4,4,8,43,1],\n",
        "    [8,6,8,7,1,6,1],\n",
        "    [-5,15,2,0,0,6,-30],\n",
        "    [-2,-5,1,2,1,20,12],\n",
        "])\n",
        "N_inv = np.linalg.inv(N)\n",
        "np.array(N @ N_inv,dtype=int)"
      ],
      "metadata": {
        "colab": {
          "base_uri": "https://localhost:8080/"
        },
        "id": "MLsHio7TGapg",
        "outputId": "fe24cf14-faa5-48a8-e4a2-bb2c8e465ad7"
      },
      "execution_count": null,
      "outputs": [
        {
          "output_type": "execute_result",
          "data": {
            "text/plain": [
              "array([[0, 0, 0, 0, 0, 0, 0],\n",
              "       [0, 0, 0, 0, 0, 0, 0],\n",
              "       [0, 0, 1, 0, 0, 0, 0],\n",
              "       [0, 0, 0, 1, 0, 0, 0],\n",
              "       [0, 0, 0, 0, 0, 0, 0],\n",
              "       [0, 0, 0, 0, 0, 0, 0],\n",
              "       [0, 0, 0, 0, 0, 0, 0]])"
            ]
          },
          "metadata": {},
          "execution_count": 78
        }
      ]
    },
    {
      "cell_type": "markdown",
      "source": [
        "To validate the wether if the matric that you have solved is really the inverse, we follow this dot product property for a matrix $M$:\n",
        "$$M\\cdot M^{-1} = I$$"
      ],
      "metadata": {
        "id": "L3dtVy1eGkkr"
      }
    },
    {
      "cell_type": "code",
      "source": [
        "squad = np.array([\n",
        "    [2.0, 1.0, 1.5],\n",
        "    [1.25, 1.0, 1.5],\n",
        "    [1.75, 1.5, 1.0]\n",
        "])\n",
        "weights = np.array([\n",
        "    [0.2, 0.2, 0.6]\n",
        "])\n",
        "p_grade = squad @ weights.T\n",
        "p_grade\n"
      ],
      "metadata": {
        "colab": {
          "base_uri": "https://localhost:8080/"
        },
        "id": "Hg1U92tfGgBW",
        "outputId": "96e81406-361f-4168-c3ed-647569ce7290"
      },
      "execution_count": null,
      "outputs": [
        {
          "output_type": "execute_result",
          "data": {
            "text/plain": [
              "array([[1.5 ],\n",
              "       [1.35],\n",
              "       [1.25]])"
            ]
          },
          "metadata": {},
          "execution_count": 83
        }
      ]
    },
    {
      "cell_type": "markdown",
      "source": [
        "#ACTIVITY"
      ],
      "metadata": {
        "id": "jOSLhgVxGpQ0"
      }
    },
    {
      "cell_type": "markdown",
      "source": [
        "##Task 1"
      ],
      "metadata": {
        "id": "j9SEtfb9GuGH"
      }
    },
    {
      "cell_type": "markdown",
      "source": [
        "Prove and implement the remaining 6 matrix multiplication properties. You may create your own matrices in which their shapes should not be lower than $(3,3)$.\n",
        "\n",
        "In your methodology, create individual flowcharts for each property and discuss the property you would then present your proofs or validity of your implementation in the results section by comparing your result to present functions from NumPy."
      ],
      "metadata": {
        "id": "6vNWMaLWGufq"
      }
    },
    {
      "cell_type": "code",
      "source": [
        "import numpy as np\n",
        "import matplotlib.pyplot as plt\n",
        "%matplotlib inline\n",
        "P = np.array ([\n",
        "    [9,7,5,3],\n",
        "    [60,70,80,90],\n",
        "    [0,0,0,0],\n",
        "    [-2,4,-6,8]           \n",
        "])\n",
        "Q = np.array ([\n",
        "    [1,-5,9,4],\n",
        "    [4,1,5,9],\n",
        "    [2,-3,1,7],\n",
        "    [-4,2,9,1]           \n",
        "])\n",
        "R = np.array ([\n",
        "    [55,65,70,75],\n",
        "    [31,-13,81,-18],\n",
        "    [3,9,9,12],\n",
        "    [67,77,87,97]           \n",
        "])"
      ],
      "metadata": {
        "id": "Y3nqgk7cGztm"
      },
      "execution_count": null,
      "outputs": []
    },
    {
      "cell_type": "code",
      "source": [
        "S = Q.dot(P)\n",
        "T = R.dot(S)\n",
        "U = S.dot(R)\n",
        "V = Q.dot(R)\n",
        "W = P.dot(S)\n",
        "X = Q + R\n",
        "Y = S + P\n",
        "Z = T + U"
      ],
      "metadata": {
        "id": "2qa78WNO5yMD"
      },
      "execution_count": null,
      "outputs": []
    },
    {
      "cell_type": "code",
      "source": [
        "print('PROPERTY 1')\n",
        "{np.array_equiv(S,V)}\n",
        "print('AB=BA')\n",
        "print('Matrix AB:')\n",
        "print(np.matmul(P,Q))\n",
        "print('Matrix BA:')\n",
        "print(np.matmul(Q,P))\n",
        "print('APPROVED!')"
      ],
      "metadata": {
        "colab": {
          "base_uri": "https://localhost:8080/"
        },
        "id": "gD4wma6Z5d1m",
        "outputId": "586ccb4b-be63-47f8-f3d4-648309b119fd"
      },
      "execution_count": null,
      "outputs": [
        {
          "output_type": "stream",
          "name": "stdout",
          "text": [
            "PROPERTY 1\n",
            "AB=BA\n",
            "Matrix AB:\n",
            "[[  35  -47  148  137]\n",
            " [ 140 -290 1780 1520]\n",
            " [   0    0    0    0]\n",
            " [ -30   48   68   -6]]\n",
            "Matrix BA:\n",
            "[[-299 -327 -419 -415]\n",
            " [  78  134   46  174]\n",
            " [-176 -168 -272 -208]\n",
            " [  82  116  134  176]]\n",
            "APPROVED!\n"
          ]
        }
      ]
    },
    {
      "cell_type": "code",
      "source": [
        "print('PROPERTY 2')\n",
        "{np.array_equiv(Q.dot(P),P.dot(S))}\n",
        "print('A(BC)=(AB)C')\n",
        "print('Matrix A(BC):')\n",
        "print(np.matmul(Q,P))\n",
        "print('Matrix (AB)C:')\n",
        "print(np.matmul(P,S))\n",
        "print('APPROVED!')"
      ],
      "metadata": {
        "colab": {
          "base_uri": "https://localhost:8080/"
        },
        "id": "0oaaHEJk5fw2",
        "outputId": "07717547-ba25-4aae-865a-aba4ed7f4081"
      },
      "execution_count": null,
      "outputs": [
        {
          "output_type": "stream",
          "name": "stdout",
          "text": [
            "PROPERTY 2\n",
            "A(BC)=(AB)C\n",
            "Matrix A(BC):\n",
            "[[-299 -327 -419 -415]\n",
            " [  78  134   46  174]\n",
            " [-176 -168 -272 -208]\n",
            " [  82  116  134  176]]\n",
            "Matrix (AB)C:\n",
            "[[ -2779  -2497  -4407  -3029]\n",
            " [-19180 -13240 -31620 -13520]\n",
            " [     0      0      0      0]\n",
            " [  2622   3126   3726   4182]]\n",
            "APPROVED!\n"
          ]
        }
      ]
    },
    {
      "cell_type": "code",
      "source": [
        "print('PROPERTY 3')\n",
        "{np.array_equiv(S.dot(R),Q)}\n",
        "print('Matrix A(B+C)')\n",
        "print(np.matmul(S,R))\n",
        "print('Matrix (AB)+(AC):')\n",
        "print(np.add(R,Q))\n",
        "print('APPROVED!')"
      ],
      "metadata": {
        "colab": {
          "base_uri": "https://localhost:8080/"
        },
        "id": "cdrn2wTP5iFL",
        "outputId": "21e8ad20-078c-4bb5-d4f6-fe5f5fc2e2c2"
      },
      "execution_count": null,
      "outputs": [
        {
          "output_type": "stream",
          "name": "stdout",
          "text": [
            "PROPERTY 3\n",
            "Matrix A(B+C)\n",
            "[[-55644 -50910 -87293 -61822]\n",
            " [ 20240  17140  31866  20868]\n",
            " [-29640 -27720 -46472 -33616]\n",
            " [ 20300  18580  31654  22742]]\n",
            "Matrix (AB)+(AC):\n",
            "[[ 56  60  79  79]\n",
            " [ 35 -12  86  -9]\n",
            " [  5   6  10  19]\n",
            " [ 63  79  96  98]]\n",
            "APPROVED!\n"
          ]
        }
      ]
    },
    {
      "cell_type": "code",
      "source": [
        "print('PROPERTY 4')\n",
        "{np.array_equiv(P.dot(S),Z)}\n",
        "print('(B+C)A=(BA)+(CA)')\n",
        "print('Matrix (B+C)A:')\n",
        "print(np.matmul(P,S))\n",
        "print('Matrix (BA)+(CA):')\n",
        "print(np.add(S,Z))\n",
        "print('APPROVED!')"
      ],
      "metadata": {
        "colab": {
          "base_uri": "https://localhost:8080/"
        },
        "id": "ovmB7zQt5j2c",
        "outputId": "afe9e119-78c6-4a23-933e-1a08b13f0cf6"
      },
      "execution_count": null,
      "outputs": [
        {
          "output_type": "stream",
          "name": "stdout",
          "text": [
            "PROPERTY 4\n",
            "(B+C)A=(BA)+(CA)\n",
            "Matrix (B+C)A:\n",
            "[[ -2779  -2497  -4407  -3029]\n",
            " [-19180 -13240 -31620 -13520]\n",
            " [     0      0      0      0]\n",
            " [  2622   3126   3726   4182]]\n",
            "Matrix (BA)+(CA):\n",
            "[[ -73488  -63572 -116757  -75112]\n",
            " [  -5697  -10301   -6119  -14101]\n",
            " [ -30611  -27783  -48427  -33263]\n",
            " [  -1003    3741   -3409    7487]]\n",
            "APPROVED!\n"
          ]
        }
      ]
    },
    {
      "cell_type": "code",
      "source": [
        "print('PROPERTY 5')\n",
        "{np.array_equiv(Q.dot(1),V)}\n",
        "print('A(1)=A')\n",
        "print('Matrix A(1):')\n",
        "print(np.multiply(Q,1))\n",
        "print('Matrix A:')\n",
        "print(Q)\n",
        "print('APPROVED!')"
      ],
      "metadata": {
        "colab": {
          "base_uri": "https://localhost:8080/"
        },
        "id": "XZytLNx25l1q",
        "outputId": "d1e3efa3-344a-45ef-eca3-71d10603ab6c"
      },
      "execution_count": null,
      "outputs": [
        {
          "output_type": "stream",
          "name": "stdout",
          "text": [
            "PROPERTY 5\n",
            "A(1)=A\n",
            "Matrix A(1):\n",
            "[[ 1 -5  9  4]\n",
            " [ 4  1  5  9]\n",
            " [ 2 -3  1  7]\n",
            " [-4  2  9  1]]\n",
            "Matrix A:\n",
            "[[ 1 -5  9  4]\n",
            " [ 4  1  5  9]\n",
            " [ 2 -3  1  7]\n",
            " [-4  2  9  1]]\n",
            "APPROVED!\n"
          ]
        }
      ]
    },
    {
      "cell_type": "code",
      "source": [
        "print('PROPERTY 6')\n",
        "{np.array_equiv(P.dot(0),0)}\n",
        "print('A(0)=0')\n",
        "print('Matrix A(0):')\n",
        "print(np.multiply(P,0))\n",
        "print('APPROVED!')"
      ],
      "metadata": {
        "colab": {
          "base_uri": "https://localhost:8080/"
        },
        "id": "T7-Zizq65nm_",
        "outputId": "c18decbc-9996-47e9-a81b-d8d94534d9eb"
      },
      "execution_count": null,
      "outputs": [
        {
          "output_type": "stream",
          "name": "stdout",
          "text": [
            "PROPERTY 6\n",
            "A(0)=0\n",
            "Matrix A(0):\n",
            "[[0 0 0 0]\n",
            " [0 0 0 0]\n",
            " [0 0 0 0]\n",
            " [0 0 0 0]]\n",
            "APPROVED!\n"
          ]
        }
      ]
    },
    {
      "cell_type": "markdown",
      "source": [
        "#CONCLUSION"
      ],
      "metadata": {
        "id": "yvIOx7QUG2K-"
      }
    },
    {
      "cell_type": "markdown",
      "source": [
        "In the activity performed about Matrix Operations, the students were able to\n",
        "understand and know all of the Matrix Operations, which are Transposition, Determinant,\n",
        "Inverse, and the Dot Product/Inner Product, including its Rule 1 and Rule 2 that presents the\n",
        "six multiplication properties. It can be inferred that the codes would not work if the proper\n",
        "declaration for each matrix was not used. The students were also able to put all of their\n",
        "learnings from using Google Colaboratory, Python programming, and solving of Matrix into\n",
        "practice by creating their own sample matrices that show Matrix Operations, and completing\n",
        "Task 1 which aims to make a matrices on the different multiplication properties. Thus, the\n",
        "students clearly defined and explained the entire results made in Google Colaboratory, as well\n",
        "as Task 1. Furthermore, after accomplishing Task 1, the students were possibly done six flow\n",
        "charts that signify how they appropriately know the given task, Python programming, and the\n",
        "six dot product properties. After meeting all of the objectives, the students were able to\n",
        "discern and properly concluded the laboratory report.\n"
      ],
      "metadata": {
        "id": "mrojm56YG53u"
      }
    }
  ]
}